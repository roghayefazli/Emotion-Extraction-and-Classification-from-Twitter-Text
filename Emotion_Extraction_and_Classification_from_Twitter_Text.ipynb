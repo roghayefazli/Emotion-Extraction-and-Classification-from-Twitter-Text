{
  "nbformat": 4,
  "nbformat_minor": 0,
  "metadata": {
    "kernelspec": {
      "language": "python",
      "display_name": "Python 3",
      "name": "python3"
    },
    "language_info": {
      "name": "python",
      "version": "3.7.10",
      "mimetype": "text/x-python",
      "codemirror_mode": {
        "name": "ipython",
        "version": 3
      },
      "pygments_lexer": "ipython3",
      "nbconvert_exporter": "python",
      "file_extension": ".py"
    },
    "colab": {
      "provenance": [],
      "include_colab_link": true
    },
    "accelerator": "GPU"
  },
  "cells": [
    {
      "cell_type": "markdown",
      "metadata": {
        "id": "view-in-github",
        "colab_type": "text"
      },
      "source": [
        "<a href=\"https://colab.research.google.com/github/roghayefazli/Emotion-Extraction-and-Classification-from-Twitter-Text/blob/main/Emotion_Extraction_and_Classification_from_Twitter_Text.ipynb\" target=\"_parent\"><img src=\"https://colab.research.google.com/assets/colab-badge.svg\" alt=\"Open In Colab\"/></a>"
      ]
    },
    {
      "cell_type": "markdown",
      "metadata": {
        "_uuid": "97b92845b85f289ba795c8c8f7117526abe073d0",
        "id": "ERM5X1RKcv-B"
      },
      "source": [
        "# Emotion Extraction and Classification from Twitter Text\n",
        "Emotion is one of the basic instincts of a human being. Emotion detection plays a vital role in the field of textual analysis. At present, people’s expressions and emotional states have turned into the leading topic for research works. Emotion Detection and Recognition from texts are recent fields of research that are closely related to Emotion Analysis. Emotion Analysis aims at detecting and recognizing feelings through the expressions from sentences, such as *anger*, *surprise*, *joy*, *fear*, *sadness*, *love* etc.\n",
        "\n",
        "**Course No:** CSE4238\n",
        "\n",
        "**Course Name:** Soft Computing Lab\n",
        "\n",
        "**Course Teachers**\n",
        "\n",
        "\n",
        "*   Nibir Chandra Mandol\n",
        "*   Sanzana Karim Lora\n",
        "\n",
        "\n",
        "\n",
        "**Team Members**\n",
        "\n",
        "*   160204107 - Nowshin Rumali\n",
        "*   170104116 - Rejone-E-Rasul Hridoy\n",
        "*   170104118 - Mehedi Hasan Sami\n",
        "*   170104136 - Sabiha Nasrin Jyoti\n",
        "\n",
        "\n",
        "\n",
        "\n"
      ]
    },
    {
      "cell_type": "code",
      "metadata": {
        "_uuid": "abb7e3c30b8a412a50c6b451c49939e3cf4bc11b",
        "scrolled": true,
        "execution": {
          "iopub.status.busy": "2021-09-30T19:34:39.342715Z",
          "iopub.execute_input": "2021-09-30T19:34:39.343017Z",
          "iopub.status.idle": "2021-09-30T19:34:49.336440Z",
          "shell.execute_reply.started": "2021-09-30T19:34:39.342940Z",
          "shell.execute_reply": "2021-09-30T19:34:49.335714Z"
        },
        "trusted": true,
        "id": "OP-hoLaIcv-K"
      },
      "source": [
        "import random\n",
        "import time\n",
        "import pandas as pd\n",
        "import numpy as np\n",
        "import re\n",
        "import torch\n",
        "import string\n",
        "\n",
        "import torch.nn as nn\n",
        "import torch.optim as optim\n",
        "import torch.nn.functional as F\n",
        "from torch.utils.data import Dataset, DataLoader\n",
        "from torch.nn.utils.rnn import pack_padded_sequence, pad_packed_sequence\n",
        "\n",
        "from sklearn.metrics import accuracy_score\n",
        "from sklearn.metrics import precision_score\n",
        "from sklearn.metrics import recall_score\n",
        "from sklearn.metrics import f1_score\n",
        "\n",
        "from tensorflow. keras.preprocessing.text import Tokenizer\n",
        "from tensorflow.keras.preprocessing.sequence import pad_sequences\n",
        "\n",
        "from torch.optim.optimizer import Optimizer\n",
        "\n",
        "import matplotlib.pyplot as plt\n",
        "from sklearn.metrics import confusion_matrix, ConfusionMatrixDisplay\n",
        "import warnings\n",
        "warnings.filterwarnings(\"ignore\")\n",
        "\n",
        "root_path = \"/content/drive/MyDrive/CSE/4.2/CSE4238 - Soft Computing Lab/Project - Emotion Detection from Twitter Text/\""
      ],
      "execution_count": null,
      "outputs": []
    },
    {
      "cell_type": "code",
      "metadata": {
        "colab": {
          "base_uri": "https://localhost:8080/",
          "height": 304
        },
        "id": "5S1WZGesc3pz",
        "outputId": "2daf4505-6577-471a-b66c-641d78461c9f"
      },
      "source": [
        "from google.colab import drive\n",
        "drive.mount('/content/drive')"
      ],
      "execution_count": null,
      "outputs": [
        {
          "output_type": "error",
          "ename": "MessageError",
          "evalue": "Error: credential propagation was unsuccessful",
          "traceback": [
            "\u001b[0;31m---------------------------------------------------------------------------\u001b[0m",
            "\u001b[0;31mMessageError\u001b[0m                              Traceback (most recent call last)",
            "\u001b[0;32m<ipython-input-2-d5df0069828e>\u001b[0m in \u001b[0;36m<cell line: 2>\u001b[0;34m()\u001b[0m\n\u001b[1;32m      1\u001b[0m \u001b[0;32mfrom\u001b[0m \u001b[0mgoogle\u001b[0m\u001b[0;34m.\u001b[0m\u001b[0mcolab\u001b[0m \u001b[0;32mimport\u001b[0m \u001b[0mdrive\u001b[0m\u001b[0;34m\u001b[0m\u001b[0;34m\u001b[0m\u001b[0m\n\u001b[0;32m----> 2\u001b[0;31m \u001b[0mdrive\u001b[0m\u001b[0;34m.\u001b[0m\u001b[0mmount\u001b[0m\u001b[0;34m(\u001b[0m\u001b[0;34m'/content/drive'\u001b[0m\u001b[0;34m)\u001b[0m\u001b[0;34m\u001b[0m\u001b[0;34m\u001b[0m\u001b[0m\n\u001b[0m",
            "\u001b[0;32m/usr/local/lib/python3.10/dist-packages/google/colab/drive.py\u001b[0m in \u001b[0;36mmount\u001b[0;34m(mountpoint, force_remount, timeout_ms, readonly)\u001b[0m\n\u001b[1;32m     98\u001b[0m \u001b[0;32mdef\u001b[0m \u001b[0mmount\u001b[0m\u001b[0;34m(\u001b[0m\u001b[0mmountpoint\u001b[0m\u001b[0;34m,\u001b[0m \u001b[0mforce_remount\u001b[0m\u001b[0;34m=\u001b[0m\u001b[0;32mFalse\u001b[0m\u001b[0;34m,\u001b[0m \u001b[0mtimeout_ms\u001b[0m\u001b[0;34m=\u001b[0m\u001b[0;36m120000\u001b[0m\u001b[0;34m,\u001b[0m \u001b[0mreadonly\u001b[0m\u001b[0;34m=\u001b[0m\u001b[0;32mFalse\u001b[0m\u001b[0;34m)\u001b[0m\u001b[0;34m:\u001b[0m\u001b[0;34m\u001b[0m\u001b[0;34m\u001b[0m\u001b[0m\n\u001b[1;32m     99\u001b[0m   \u001b[0;34m\"\"\"Mount your Google Drive at the specified mountpoint path.\"\"\"\u001b[0m\u001b[0;34m\u001b[0m\u001b[0;34m\u001b[0m\u001b[0m\n\u001b[0;32m--> 100\u001b[0;31m   return _mount(\n\u001b[0m\u001b[1;32m    101\u001b[0m       \u001b[0mmountpoint\u001b[0m\u001b[0;34m,\u001b[0m\u001b[0;34m\u001b[0m\u001b[0;34m\u001b[0m\u001b[0m\n\u001b[1;32m    102\u001b[0m       \u001b[0mforce_remount\u001b[0m\u001b[0;34m=\u001b[0m\u001b[0mforce_remount\u001b[0m\u001b[0;34m,\u001b[0m\u001b[0;34m\u001b[0m\u001b[0;34m\u001b[0m\u001b[0m\n",
            "\u001b[0;32m/usr/local/lib/python3.10/dist-packages/google/colab/drive.py\u001b[0m in \u001b[0;36m_mount\u001b[0;34m(mountpoint, force_remount, timeout_ms, ephemeral, readonly)\u001b[0m\n\u001b[1;32m    131\u001b[0m   )\n\u001b[1;32m    132\u001b[0m   \u001b[0;32mif\u001b[0m \u001b[0mephemeral\u001b[0m\u001b[0;34m:\u001b[0m\u001b[0;34m\u001b[0m\u001b[0;34m\u001b[0m\u001b[0m\n\u001b[0;32m--> 133\u001b[0;31m     _message.blocking_request(\n\u001b[0m\u001b[1;32m    134\u001b[0m         \u001b[0;34m'request_auth'\u001b[0m\u001b[0;34m,\u001b[0m\u001b[0;34m\u001b[0m\u001b[0;34m\u001b[0m\u001b[0m\n\u001b[1;32m    135\u001b[0m         \u001b[0mrequest\u001b[0m\u001b[0;34m=\u001b[0m\u001b[0;34m{\u001b[0m\u001b[0;34m'authType'\u001b[0m\u001b[0;34m:\u001b[0m \u001b[0;34m'dfs_ephemeral'\u001b[0m\u001b[0;34m}\u001b[0m\u001b[0;34m,\u001b[0m\u001b[0;34m\u001b[0m\u001b[0;34m\u001b[0m\u001b[0m\n",
            "\u001b[0;32m/usr/local/lib/python3.10/dist-packages/google/colab/_message.py\u001b[0m in \u001b[0;36mblocking_request\u001b[0;34m(request_type, request, timeout_sec, parent)\u001b[0m\n\u001b[1;32m    174\u001b[0m       \u001b[0mrequest_type\u001b[0m\u001b[0;34m,\u001b[0m \u001b[0mrequest\u001b[0m\u001b[0;34m,\u001b[0m \u001b[0mparent\u001b[0m\u001b[0;34m=\u001b[0m\u001b[0mparent\u001b[0m\u001b[0;34m,\u001b[0m \u001b[0mexpect_reply\u001b[0m\u001b[0;34m=\u001b[0m\u001b[0;32mTrue\u001b[0m\u001b[0;34m\u001b[0m\u001b[0;34m\u001b[0m\u001b[0m\n\u001b[1;32m    175\u001b[0m   )\n\u001b[0;32m--> 176\u001b[0;31m   \u001b[0;32mreturn\u001b[0m \u001b[0mread_reply_from_input\u001b[0m\u001b[0;34m(\u001b[0m\u001b[0mrequest_id\u001b[0m\u001b[0;34m,\u001b[0m \u001b[0mtimeout_sec\u001b[0m\u001b[0;34m)\u001b[0m\u001b[0;34m\u001b[0m\u001b[0;34m\u001b[0m\u001b[0m\n\u001b[0m",
            "\u001b[0;32m/usr/local/lib/python3.10/dist-packages/google/colab/_message.py\u001b[0m in \u001b[0;36mread_reply_from_input\u001b[0;34m(message_id, timeout_sec)\u001b[0m\n\u001b[1;32m    101\u001b[0m     ):\n\u001b[1;32m    102\u001b[0m       \u001b[0;32mif\u001b[0m \u001b[0;34m'error'\u001b[0m \u001b[0;32min\u001b[0m \u001b[0mreply\u001b[0m\u001b[0;34m:\u001b[0m\u001b[0;34m\u001b[0m\u001b[0;34m\u001b[0m\u001b[0m\n\u001b[0;32m--> 103\u001b[0;31m         \u001b[0;32mraise\u001b[0m \u001b[0mMessageError\u001b[0m\u001b[0;34m(\u001b[0m\u001b[0mreply\u001b[0m\u001b[0;34m[\u001b[0m\u001b[0;34m'error'\u001b[0m\u001b[0;34m]\u001b[0m\u001b[0;34m)\u001b[0m\u001b[0;34m\u001b[0m\u001b[0;34m\u001b[0m\u001b[0m\n\u001b[0m\u001b[1;32m    104\u001b[0m       \u001b[0;32mreturn\u001b[0m \u001b[0mreply\u001b[0m\u001b[0;34m.\u001b[0m\u001b[0mget\u001b[0m\u001b[0;34m(\u001b[0m\u001b[0;34m'data'\u001b[0m\u001b[0;34m,\u001b[0m \u001b[0;32mNone\u001b[0m\u001b[0;34m)\u001b[0m\u001b[0;34m\u001b[0m\u001b[0;34m\u001b[0m\u001b[0m\n\u001b[1;32m    105\u001b[0m \u001b[0;34m\u001b[0m\u001b[0m\n",
            "\u001b[0;31mMessageError\u001b[0m: Error: credential propagation was unsuccessful"
          ]
        }
      ]
    },
    {
      "cell_type": "markdown",
      "metadata": {
        "_uuid": "9a4ff5590a6f152dc1bec5aeca79aef10218f7de",
        "id": "kxIsxJ-7cv-P"
      },
      "source": [
        "### Parameters"
      ]
    },
    {
      "cell_type": "code",
      "metadata": {
        "_uuid": "deee49df5ca1c4413f71677939e26aa1ff784e44",
        "scrolled": true,
        "execution": {
          "iopub.status.busy": "2021-09-30T19:34:49.339634Z",
          "iopub.execute_input": "2021-09-30T19:34:49.339837Z",
          "iopub.status.idle": "2021-09-30T19:34:49.346685Z",
          "shell.execute_reply.started": "2021-09-30T19:34:49.339813Z",
          "shell.execute_reply": "2021-09-30T19:34:49.346054Z"
        },
        "trusted": true,
        "id": "p6DA-wUHcv-R"
      },
      "source": [
        "embed_size = 300 # how big is each word vector\n",
        "max_features = 100000 # how many unique words to use (i.e num rows in embedding vector)\n",
        "maxlen = 70 # max number of words in a question to use"
      ],
      "execution_count": null,
      "outputs": []
    },
    {
      "cell_type": "markdown",
      "metadata": {
        "id": "K5U76nNyWG2e"
      },
      "source": [
        "# 1. Dataset"
      ]
    },
    {
      "cell_type": "code",
      "source": [
        "from zipfile import ZipFile\n",
        "import os\n",
        "\n",
        "# Define the path to the zip file\n",
        "zip_file_path = '/content/Dataset.zip'\n",
        "\n",
        "# Define the directory to extract the zip file\n",
        "extract_dir = '/content/'\n",
        "\n",
        "# Create the directory if it does not exist\n",
        "os.makedirs(extract_dir, exist_ok=True)\n",
        "\n",
        "# Extract the zip file\n",
        "with ZipFile(zip_file_path, 'r') as zip_ref:\n",
        "    zip_ref.extractall(extract_dir)\n",
        "\n",
        "# List the files in the extracted directory\n",
        "print(os.listdir(extract_dir))"
      ],
      "metadata": {
        "colab": {
          "base_uri": "https://localhost:8080/"
        },
        "id": "mlMvYiMgvWmm",
        "outputId": "f7e01b40-ea5a-4e71-cd56-3ffc306ad259"
      },
      "execution_count": null,
      "outputs": [
        {
          "output_type": "stream",
          "name": "stdout",
          "text": [
            "['.config', 'Dataset.zip', 'Dataset', 'sample_data']\n"
          ]
        }
      ]
    },
    {
      "cell_type": "code",
      "metadata": {
        "execution": {
          "iopub.status.busy": "2021-09-30T19:34:50.783076Z",
          "iopub.execute_input": "2021-09-30T19:34:50.783622Z",
          "iopub.status.idle": "2021-09-30T19:34:50.858030Z",
          "shell.execute_reply.started": "2021-09-30T19:34:50.783582Z",
          "shell.execute_reply": "2021-09-30T19:34:50.857366Z"
        },
        "trusted": true,
        "id": "tM121Auicv-S",
        "colab": {
          "base_uri": "https://localhost:8080/",
          "height": 206
        },
        "outputId": "0a526248-fe3b-4226-8984-92b7910b56ab"
      },
      "source": [
        "data = pd.read_csv(\"/content/Dataset/text_emotions.csv\")\n",
        "data.head()"
      ],
      "execution_count": null,
      "outputs": [
        {
          "output_type": "execute_result",
          "data": {
            "text/plain": [
              "                                             content sentiment\n",
              "0                            i didnt feel humiliated   sadness\n",
              "1  i can go from feeling so hopeless to so damned...   sadness\n",
              "2   im grabbing a minute to post i feel greedy wrong     anger\n",
              "3  i am ever feeling nostalgic about the fireplac...      love\n",
              "4                               i am feeling grouchy     anger"
            ],
            "text/html": [
              "\n",
              "  <div id=\"df-7e7322a8-e107-4e35-a78d-6ab29ed37b1f\" class=\"colab-df-container\">\n",
              "    <div>\n",
              "<style scoped>\n",
              "    .dataframe tbody tr th:only-of-type {\n",
              "        vertical-align: middle;\n",
              "    }\n",
              "\n",
              "    .dataframe tbody tr th {\n",
              "        vertical-align: top;\n",
              "    }\n",
              "\n",
              "    .dataframe thead th {\n",
              "        text-align: right;\n",
              "    }\n",
              "</style>\n",
              "<table border=\"1\" class=\"dataframe\">\n",
              "  <thead>\n",
              "    <tr style=\"text-align: right;\">\n",
              "      <th></th>\n",
              "      <th>content</th>\n",
              "      <th>sentiment</th>\n",
              "    </tr>\n",
              "  </thead>\n",
              "  <tbody>\n",
              "    <tr>\n",
              "      <th>0</th>\n",
              "      <td>i didnt feel humiliated</td>\n",
              "      <td>sadness</td>\n",
              "    </tr>\n",
              "    <tr>\n",
              "      <th>1</th>\n",
              "      <td>i can go from feeling so hopeless to so damned...</td>\n",
              "      <td>sadness</td>\n",
              "    </tr>\n",
              "    <tr>\n",
              "      <th>2</th>\n",
              "      <td>im grabbing a minute to post i feel greedy wrong</td>\n",
              "      <td>anger</td>\n",
              "    </tr>\n",
              "    <tr>\n",
              "      <th>3</th>\n",
              "      <td>i am ever feeling nostalgic about the fireplac...</td>\n",
              "      <td>love</td>\n",
              "    </tr>\n",
              "    <tr>\n",
              "      <th>4</th>\n",
              "      <td>i am feeling grouchy</td>\n",
              "      <td>anger</td>\n",
              "    </tr>\n",
              "  </tbody>\n",
              "</table>\n",
              "</div>\n",
              "    <div class=\"colab-df-buttons\">\n",
              "\n",
              "  <div class=\"colab-df-container\">\n",
              "    <button class=\"colab-df-convert\" onclick=\"convertToInteractive('df-7e7322a8-e107-4e35-a78d-6ab29ed37b1f')\"\n",
              "            title=\"Convert this dataframe to an interactive table.\"\n",
              "            style=\"display:none;\">\n",
              "\n",
              "  <svg xmlns=\"http://www.w3.org/2000/svg\" height=\"24px\" viewBox=\"0 -960 960 960\">\n",
              "    <path d=\"M120-120v-720h720v720H120Zm60-500h600v-160H180v160Zm220 220h160v-160H400v160Zm0 220h160v-160H400v160ZM180-400h160v-160H180v160Zm440 0h160v-160H620v160ZM180-180h160v-160H180v160Zm440 0h160v-160H620v160Z\"/>\n",
              "  </svg>\n",
              "    </button>\n",
              "\n",
              "  <style>\n",
              "    .colab-df-container {\n",
              "      display:flex;\n",
              "      gap: 12px;\n",
              "    }\n",
              "\n",
              "    .colab-df-convert {\n",
              "      background-color: #E8F0FE;\n",
              "      border: none;\n",
              "      border-radius: 50%;\n",
              "      cursor: pointer;\n",
              "      display: none;\n",
              "      fill: #1967D2;\n",
              "      height: 32px;\n",
              "      padding: 0 0 0 0;\n",
              "      width: 32px;\n",
              "    }\n",
              "\n",
              "    .colab-df-convert:hover {\n",
              "      background-color: #E2EBFA;\n",
              "      box-shadow: 0px 1px 2px rgba(60, 64, 67, 0.3), 0px 1px 3px 1px rgba(60, 64, 67, 0.15);\n",
              "      fill: #174EA6;\n",
              "    }\n",
              "\n",
              "    .colab-df-buttons div {\n",
              "      margin-bottom: 4px;\n",
              "    }\n",
              "\n",
              "    [theme=dark] .colab-df-convert {\n",
              "      background-color: #3B4455;\n",
              "      fill: #D2E3FC;\n",
              "    }\n",
              "\n",
              "    [theme=dark] .colab-df-convert:hover {\n",
              "      background-color: #434B5C;\n",
              "      box-shadow: 0px 1px 3px 1px rgba(0, 0, 0, 0.15);\n",
              "      filter: drop-shadow(0px 1px 2px rgba(0, 0, 0, 0.3));\n",
              "      fill: #FFFFFF;\n",
              "    }\n",
              "  </style>\n",
              "\n",
              "    <script>\n",
              "      const buttonEl =\n",
              "        document.querySelector('#df-7e7322a8-e107-4e35-a78d-6ab29ed37b1f button.colab-df-convert');\n",
              "      buttonEl.style.display =\n",
              "        google.colab.kernel.accessAllowed ? 'block' : 'none';\n",
              "\n",
              "      async function convertToInteractive(key) {\n",
              "        const element = document.querySelector('#df-7e7322a8-e107-4e35-a78d-6ab29ed37b1f');\n",
              "        const dataTable =\n",
              "          await google.colab.kernel.invokeFunction('convertToInteractive',\n",
              "                                                    [key], {});\n",
              "        if (!dataTable) return;\n",
              "\n",
              "        const docLinkHtml = 'Like what you see? Visit the ' +\n",
              "          '<a target=\"_blank\" href=https://colab.research.google.com/notebooks/data_table.ipynb>data table notebook</a>'\n",
              "          + ' to learn more about interactive tables.';\n",
              "        element.innerHTML = '';\n",
              "        dataTable['output_type'] = 'display_data';\n",
              "        await google.colab.output.renderOutput(dataTable, element);\n",
              "        const docLink = document.createElement('div');\n",
              "        docLink.innerHTML = docLinkHtml;\n",
              "        element.appendChild(docLink);\n",
              "      }\n",
              "    </script>\n",
              "  </div>\n",
              "\n",
              "\n",
              "<div id=\"df-59967971-b0a7-45d4-8b15-fef804705286\">\n",
              "  <button class=\"colab-df-quickchart\" onclick=\"quickchart('df-59967971-b0a7-45d4-8b15-fef804705286')\"\n",
              "            title=\"Suggest charts\"\n",
              "            style=\"display:none;\">\n",
              "\n",
              "<svg xmlns=\"http://www.w3.org/2000/svg\" height=\"24px\"viewBox=\"0 0 24 24\"\n",
              "     width=\"24px\">\n",
              "    <g>\n",
              "        <path d=\"M19 3H5c-1.1 0-2 .9-2 2v14c0 1.1.9 2 2 2h14c1.1 0 2-.9 2-2V5c0-1.1-.9-2-2-2zM9 17H7v-7h2v7zm4 0h-2V7h2v10zm4 0h-2v-4h2v4z\"/>\n",
              "    </g>\n",
              "</svg>\n",
              "  </button>\n",
              "\n",
              "<style>\n",
              "  .colab-df-quickchart {\n",
              "      --bg-color: #E8F0FE;\n",
              "      --fill-color: #1967D2;\n",
              "      --hover-bg-color: #E2EBFA;\n",
              "      --hover-fill-color: #174EA6;\n",
              "      --disabled-fill-color: #AAA;\n",
              "      --disabled-bg-color: #DDD;\n",
              "  }\n",
              "\n",
              "  [theme=dark] .colab-df-quickchart {\n",
              "      --bg-color: #3B4455;\n",
              "      --fill-color: #D2E3FC;\n",
              "      --hover-bg-color: #434B5C;\n",
              "      --hover-fill-color: #FFFFFF;\n",
              "      --disabled-bg-color: #3B4455;\n",
              "      --disabled-fill-color: #666;\n",
              "  }\n",
              "\n",
              "  .colab-df-quickchart {\n",
              "    background-color: var(--bg-color);\n",
              "    border: none;\n",
              "    border-radius: 50%;\n",
              "    cursor: pointer;\n",
              "    display: none;\n",
              "    fill: var(--fill-color);\n",
              "    height: 32px;\n",
              "    padding: 0;\n",
              "    width: 32px;\n",
              "  }\n",
              "\n",
              "  .colab-df-quickchart:hover {\n",
              "    background-color: var(--hover-bg-color);\n",
              "    box-shadow: 0 1px 2px rgba(60, 64, 67, 0.3), 0 1px 3px 1px rgba(60, 64, 67, 0.15);\n",
              "    fill: var(--button-hover-fill-color);\n",
              "  }\n",
              "\n",
              "  .colab-df-quickchart-complete:disabled,\n",
              "  .colab-df-quickchart-complete:disabled:hover {\n",
              "    background-color: var(--disabled-bg-color);\n",
              "    fill: var(--disabled-fill-color);\n",
              "    box-shadow: none;\n",
              "  }\n",
              "\n",
              "  .colab-df-spinner {\n",
              "    border: 2px solid var(--fill-color);\n",
              "    border-color: transparent;\n",
              "    border-bottom-color: var(--fill-color);\n",
              "    animation:\n",
              "      spin 1s steps(1) infinite;\n",
              "  }\n",
              "\n",
              "  @keyframes spin {\n",
              "    0% {\n",
              "      border-color: transparent;\n",
              "      border-bottom-color: var(--fill-color);\n",
              "      border-left-color: var(--fill-color);\n",
              "    }\n",
              "    20% {\n",
              "      border-color: transparent;\n",
              "      border-left-color: var(--fill-color);\n",
              "      border-top-color: var(--fill-color);\n",
              "    }\n",
              "    30% {\n",
              "      border-color: transparent;\n",
              "      border-left-color: var(--fill-color);\n",
              "      border-top-color: var(--fill-color);\n",
              "      border-right-color: var(--fill-color);\n",
              "    }\n",
              "    40% {\n",
              "      border-color: transparent;\n",
              "      border-right-color: var(--fill-color);\n",
              "      border-top-color: var(--fill-color);\n",
              "    }\n",
              "    60% {\n",
              "      border-color: transparent;\n",
              "      border-right-color: var(--fill-color);\n",
              "    }\n",
              "    80% {\n",
              "      border-color: transparent;\n",
              "      border-right-color: var(--fill-color);\n",
              "      border-bottom-color: var(--fill-color);\n",
              "    }\n",
              "    90% {\n",
              "      border-color: transparent;\n",
              "      border-bottom-color: var(--fill-color);\n",
              "    }\n",
              "  }\n",
              "</style>\n",
              "\n",
              "  <script>\n",
              "    async function quickchart(key) {\n",
              "      const quickchartButtonEl =\n",
              "        document.querySelector('#' + key + ' button');\n",
              "      quickchartButtonEl.disabled = true;  // To prevent multiple clicks.\n",
              "      quickchartButtonEl.classList.add('colab-df-spinner');\n",
              "      try {\n",
              "        const charts = await google.colab.kernel.invokeFunction(\n",
              "            'suggestCharts', [key], {});\n",
              "      } catch (error) {\n",
              "        console.error('Error during call to suggestCharts:', error);\n",
              "      }\n",
              "      quickchartButtonEl.classList.remove('colab-df-spinner');\n",
              "      quickchartButtonEl.classList.add('colab-df-quickchart-complete');\n",
              "    }\n",
              "    (() => {\n",
              "      let quickchartButtonEl =\n",
              "        document.querySelector('#df-59967971-b0a7-45d4-8b15-fef804705286 button');\n",
              "      quickchartButtonEl.style.display =\n",
              "        google.colab.kernel.accessAllowed ? 'block' : 'none';\n",
              "    })();\n",
              "  </script>\n",
              "</div>\n",
              "    </div>\n",
              "  </div>\n"
            ],
            "application/vnd.google.colaboratory.intrinsic+json": {
              "type": "dataframe",
              "variable_name": "data",
              "summary": "{\n  \"name\": \"data\",\n  \"rows\": 20000,\n  \"fields\": [\n    {\n      \"column\": \"content\",\n      \"properties\": {\n        \"dtype\": \"string\",\n        \"num_unique_values\": 19948,\n        \"samples\": [\n          \"i feel like she acts bitchy and complainy to try and fit in but that doesnt make sense because for the most part were not bitchy and complainy\",\n          \"i do however feel myself feeling a bit reluctant\",\n          \"i think like all australians i know the image so well it will be interesting to see how i feel when were there and yes lovely kay we are going to view it at sunrise\"\n        ],\n        \"semantic_type\": \"\",\n        \"description\": \"\"\n      }\n    },\n    {\n      \"column\": \"sentiment\",\n      \"properties\": {\n        \"dtype\": \"category\",\n        \"num_unique_values\": 6,\n        \"samples\": [\n          \"sadness\",\n          \"anger\",\n          \"joy\"\n        ],\n        \"semantic_type\": \"\",\n        \"description\": \"\"\n      }\n    }\n  ]\n}"
            }
          },
          "metadata": {},
          "execution_count": 10
        }
      ]
    },
    {
      "cell_type": "markdown",
      "metadata": {
        "id": "W8slpbbLcv-Y"
      },
      "source": [
        "## 1.1 Finding the Length"
      ]
    },
    {
      "cell_type": "code",
      "metadata": {
        "execution": {
          "iopub.status.busy": "2021-09-30T19:34:55.033142Z",
          "iopub.execute_input": "2021-09-30T19:34:55.033692Z",
          "iopub.status.idle": "2021-09-30T19:34:55.059948Z",
          "shell.execute_reply.started": "2021-09-30T19:34:55.033653Z",
          "shell.execute_reply": "2021-09-30T19:34:55.059282Z"
        },
        "trusted": true,
        "id": "PzqiMNcCcv-a",
        "colab": {
          "base_uri": "https://localhost:8080/",
          "height": 423
        },
        "outputId": "0a0a8831-1045-48d4-d9ad-a0d25ef231e8"
      },
      "source": [
        "data['length'] = data['content'].apply(lambda x: len(str(x).split()))\n",
        "data"
      ],
      "execution_count": null,
      "outputs": [
        {
          "output_type": "execute_result",
          "data": {
            "text/plain": [
              "                                                 content sentiment  length\n",
              "0                                i didnt feel humiliated   sadness       4\n",
              "1      i can go from feeling so hopeless to so damned...   sadness      21\n",
              "2       im grabbing a minute to post i feel greedy wrong     anger      10\n",
              "3      i am ever feeling nostalgic about the fireplac...      love      18\n",
              "4                                   i am feeling grouchy     anger       4\n",
              "...                                                  ...       ...     ...\n",
              "19995  im having ssa examination tomorrow in the morn...   sadness      34\n",
              "19996  i constantly worry about their fight against n...       joy      29\n",
              "19997  i feel its important to share this info for th...       joy      15\n",
              "19998  i truly feel that if you are passionate enough...       joy      19\n",
              "19999  i feel like i just wanna buy any cute make up ...       joy      18\n",
              "\n",
              "[20000 rows x 3 columns]"
            ],
            "text/html": [
              "\n",
              "  <div id=\"df-0b0450cc-2d44-445b-9e6f-19fb8679646f\" class=\"colab-df-container\">\n",
              "    <div>\n",
              "<style scoped>\n",
              "    .dataframe tbody tr th:only-of-type {\n",
              "        vertical-align: middle;\n",
              "    }\n",
              "\n",
              "    .dataframe tbody tr th {\n",
              "        vertical-align: top;\n",
              "    }\n",
              "\n",
              "    .dataframe thead th {\n",
              "        text-align: right;\n",
              "    }\n",
              "</style>\n",
              "<table border=\"1\" class=\"dataframe\">\n",
              "  <thead>\n",
              "    <tr style=\"text-align: right;\">\n",
              "      <th></th>\n",
              "      <th>content</th>\n",
              "      <th>sentiment</th>\n",
              "      <th>length</th>\n",
              "    </tr>\n",
              "  </thead>\n",
              "  <tbody>\n",
              "    <tr>\n",
              "      <th>0</th>\n",
              "      <td>i didnt feel humiliated</td>\n",
              "      <td>sadness</td>\n",
              "      <td>4</td>\n",
              "    </tr>\n",
              "    <tr>\n",
              "      <th>1</th>\n",
              "      <td>i can go from feeling so hopeless to so damned...</td>\n",
              "      <td>sadness</td>\n",
              "      <td>21</td>\n",
              "    </tr>\n",
              "    <tr>\n",
              "      <th>2</th>\n",
              "      <td>im grabbing a minute to post i feel greedy wrong</td>\n",
              "      <td>anger</td>\n",
              "      <td>10</td>\n",
              "    </tr>\n",
              "    <tr>\n",
              "      <th>3</th>\n",
              "      <td>i am ever feeling nostalgic about the fireplac...</td>\n",
              "      <td>love</td>\n",
              "      <td>18</td>\n",
              "    </tr>\n",
              "    <tr>\n",
              "      <th>4</th>\n",
              "      <td>i am feeling grouchy</td>\n",
              "      <td>anger</td>\n",
              "      <td>4</td>\n",
              "    </tr>\n",
              "    <tr>\n",
              "      <th>...</th>\n",
              "      <td>...</td>\n",
              "      <td>...</td>\n",
              "      <td>...</td>\n",
              "    </tr>\n",
              "    <tr>\n",
              "      <th>19995</th>\n",
              "      <td>im having ssa examination tomorrow in the morn...</td>\n",
              "      <td>sadness</td>\n",
              "      <td>34</td>\n",
              "    </tr>\n",
              "    <tr>\n",
              "      <th>19996</th>\n",
              "      <td>i constantly worry about their fight against n...</td>\n",
              "      <td>joy</td>\n",
              "      <td>29</td>\n",
              "    </tr>\n",
              "    <tr>\n",
              "      <th>19997</th>\n",
              "      <td>i feel its important to share this info for th...</td>\n",
              "      <td>joy</td>\n",
              "      <td>15</td>\n",
              "    </tr>\n",
              "    <tr>\n",
              "      <th>19998</th>\n",
              "      <td>i truly feel that if you are passionate enough...</td>\n",
              "      <td>joy</td>\n",
              "      <td>19</td>\n",
              "    </tr>\n",
              "    <tr>\n",
              "      <th>19999</th>\n",
              "      <td>i feel like i just wanna buy any cute make up ...</td>\n",
              "      <td>joy</td>\n",
              "      <td>18</td>\n",
              "    </tr>\n",
              "  </tbody>\n",
              "</table>\n",
              "<p>20000 rows × 3 columns</p>\n",
              "</div>\n",
              "    <div class=\"colab-df-buttons\">\n",
              "\n",
              "  <div class=\"colab-df-container\">\n",
              "    <button class=\"colab-df-convert\" onclick=\"convertToInteractive('df-0b0450cc-2d44-445b-9e6f-19fb8679646f')\"\n",
              "            title=\"Convert this dataframe to an interactive table.\"\n",
              "            style=\"display:none;\">\n",
              "\n",
              "  <svg xmlns=\"http://www.w3.org/2000/svg\" height=\"24px\" viewBox=\"0 -960 960 960\">\n",
              "    <path d=\"M120-120v-720h720v720H120Zm60-500h600v-160H180v160Zm220 220h160v-160H400v160Zm0 220h160v-160H400v160ZM180-400h160v-160H180v160Zm440 0h160v-160H620v160ZM180-180h160v-160H180v160Zm440 0h160v-160H620v160Z\"/>\n",
              "  </svg>\n",
              "    </button>\n",
              "\n",
              "  <style>\n",
              "    .colab-df-container {\n",
              "      display:flex;\n",
              "      gap: 12px;\n",
              "    }\n",
              "\n",
              "    .colab-df-convert {\n",
              "      background-color: #E8F0FE;\n",
              "      border: none;\n",
              "      border-radius: 50%;\n",
              "      cursor: pointer;\n",
              "      display: none;\n",
              "      fill: #1967D2;\n",
              "      height: 32px;\n",
              "      padding: 0 0 0 0;\n",
              "      width: 32px;\n",
              "    }\n",
              "\n",
              "    .colab-df-convert:hover {\n",
              "      background-color: #E2EBFA;\n",
              "      box-shadow: 0px 1px 2px rgba(60, 64, 67, 0.3), 0px 1px 3px 1px rgba(60, 64, 67, 0.15);\n",
              "      fill: #174EA6;\n",
              "    }\n",
              "\n",
              "    .colab-df-buttons div {\n",
              "      margin-bottom: 4px;\n",
              "    }\n",
              "\n",
              "    [theme=dark] .colab-df-convert {\n",
              "      background-color: #3B4455;\n",
              "      fill: #D2E3FC;\n",
              "    }\n",
              "\n",
              "    [theme=dark] .colab-df-convert:hover {\n",
              "      background-color: #434B5C;\n",
              "      box-shadow: 0px 1px 3px 1px rgba(0, 0, 0, 0.15);\n",
              "      filter: drop-shadow(0px 1px 2px rgba(0, 0, 0, 0.3));\n",
              "      fill: #FFFFFF;\n",
              "    }\n",
              "  </style>\n",
              "\n",
              "    <script>\n",
              "      const buttonEl =\n",
              "        document.querySelector('#df-0b0450cc-2d44-445b-9e6f-19fb8679646f button.colab-df-convert');\n",
              "      buttonEl.style.display =\n",
              "        google.colab.kernel.accessAllowed ? 'block' : 'none';\n",
              "\n",
              "      async function convertToInteractive(key) {\n",
              "        const element = document.querySelector('#df-0b0450cc-2d44-445b-9e6f-19fb8679646f');\n",
              "        const dataTable =\n",
              "          await google.colab.kernel.invokeFunction('convertToInteractive',\n",
              "                                                    [key], {});\n",
              "        if (!dataTable) return;\n",
              "\n",
              "        const docLinkHtml = 'Like what you see? Visit the ' +\n",
              "          '<a target=\"_blank\" href=https://colab.research.google.com/notebooks/data_table.ipynb>data table notebook</a>'\n",
              "          + ' to learn more about interactive tables.';\n",
              "        element.innerHTML = '';\n",
              "        dataTable['output_type'] = 'display_data';\n",
              "        await google.colab.output.renderOutput(dataTable, element);\n",
              "        const docLink = document.createElement('div');\n",
              "        docLink.innerHTML = docLinkHtml;\n",
              "        element.appendChild(docLink);\n",
              "      }\n",
              "    </script>\n",
              "  </div>\n",
              "\n",
              "\n",
              "<div id=\"df-4db42d07-0d15-461f-a027-11f57ae8c152\">\n",
              "  <button class=\"colab-df-quickchart\" onclick=\"quickchart('df-4db42d07-0d15-461f-a027-11f57ae8c152')\"\n",
              "            title=\"Suggest charts\"\n",
              "            style=\"display:none;\">\n",
              "\n",
              "<svg xmlns=\"http://www.w3.org/2000/svg\" height=\"24px\"viewBox=\"0 0 24 24\"\n",
              "     width=\"24px\">\n",
              "    <g>\n",
              "        <path d=\"M19 3H5c-1.1 0-2 .9-2 2v14c0 1.1.9 2 2 2h14c1.1 0 2-.9 2-2V5c0-1.1-.9-2-2-2zM9 17H7v-7h2v7zm4 0h-2V7h2v10zm4 0h-2v-4h2v4z\"/>\n",
              "    </g>\n",
              "</svg>\n",
              "  </button>\n",
              "\n",
              "<style>\n",
              "  .colab-df-quickchart {\n",
              "      --bg-color: #E8F0FE;\n",
              "      --fill-color: #1967D2;\n",
              "      --hover-bg-color: #E2EBFA;\n",
              "      --hover-fill-color: #174EA6;\n",
              "      --disabled-fill-color: #AAA;\n",
              "      --disabled-bg-color: #DDD;\n",
              "  }\n",
              "\n",
              "  [theme=dark] .colab-df-quickchart {\n",
              "      --bg-color: #3B4455;\n",
              "      --fill-color: #D2E3FC;\n",
              "      --hover-bg-color: #434B5C;\n",
              "      --hover-fill-color: #FFFFFF;\n",
              "      --disabled-bg-color: #3B4455;\n",
              "      --disabled-fill-color: #666;\n",
              "  }\n",
              "\n",
              "  .colab-df-quickchart {\n",
              "    background-color: var(--bg-color);\n",
              "    border: none;\n",
              "    border-radius: 50%;\n",
              "    cursor: pointer;\n",
              "    display: none;\n",
              "    fill: var(--fill-color);\n",
              "    height: 32px;\n",
              "    padding: 0;\n",
              "    width: 32px;\n",
              "  }\n",
              "\n",
              "  .colab-df-quickchart:hover {\n",
              "    background-color: var(--hover-bg-color);\n",
              "    box-shadow: 0 1px 2px rgba(60, 64, 67, 0.3), 0 1px 3px 1px rgba(60, 64, 67, 0.15);\n",
              "    fill: var(--button-hover-fill-color);\n",
              "  }\n",
              "\n",
              "  .colab-df-quickchart-complete:disabled,\n",
              "  .colab-df-quickchart-complete:disabled:hover {\n",
              "    background-color: var(--disabled-bg-color);\n",
              "    fill: var(--disabled-fill-color);\n",
              "    box-shadow: none;\n",
              "  }\n",
              "\n",
              "  .colab-df-spinner {\n",
              "    border: 2px solid var(--fill-color);\n",
              "    border-color: transparent;\n",
              "    border-bottom-color: var(--fill-color);\n",
              "    animation:\n",
              "      spin 1s steps(1) infinite;\n",
              "  }\n",
              "\n",
              "  @keyframes spin {\n",
              "    0% {\n",
              "      border-color: transparent;\n",
              "      border-bottom-color: var(--fill-color);\n",
              "      border-left-color: var(--fill-color);\n",
              "    }\n",
              "    20% {\n",
              "      border-color: transparent;\n",
              "      border-left-color: var(--fill-color);\n",
              "      border-top-color: var(--fill-color);\n",
              "    }\n",
              "    30% {\n",
              "      border-color: transparent;\n",
              "      border-left-color: var(--fill-color);\n",
              "      border-top-color: var(--fill-color);\n",
              "      border-right-color: var(--fill-color);\n",
              "    }\n",
              "    40% {\n",
              "      border-color: transparent;\n",
              "      border-right-color: var(--fill-color);\n",
              "      border-top-color: var(--fill-color);\n",
              "    }\n",
              "    60% {\n",
              "      border-color: transparent;\n",
              "      border-right-color: var(--fill-color);\n",
              "    }\n",
              "    80% {\n",
              "      border-color: transparent;\n",
              "      border-right-color: var(--fill-color);\n",
              "      border-bottom-color: var(--fill-color);\n",
              "    }\n",
              "    90% {\n",
              "      border-color: transparent;\n",
              "      border-bottom-color: var(--fill-color);\n",
              "    }\n",
              "  }\n",
              "</style>\n",
              "\n",
              "  <script>\n",
              "    async function quickchart(key) {\n",
              "      const quickchartButtonEl =\n",
              "        document.querySelector('#' + key + ' button');\n",
              "      quickchartButtonEl.disabled = true;  // To prevent multiple clicks.\n",
              "      quickchartButtonEl.classList.add('colab-df-spinner');\n",
              "      try {\n",
              "        const charts = await google.colab.kernel.invokeFunction(\n",
              "            'suggestCharts', [key], {});\n",
              "      } catch (error) {\n",
              "        console.error('Error during call to suggestCharts:', error);\n",
              "      }\n",
              "      quickchartButtonEl.classList.remove('colab-df-spinner');\n",
              "      quickchartButtonEl.classList.add('colab-df-quickchart-complete');\n",
              "    }\n",
              "    (() => {\n",
              "      let quickchartButtonEl =\n",
              "        document.querySelector('#df-4db42d07-0d15-461f-a027-11f57ae8c152 button');\n",
              "      quickchartButtonEl.style.display =\n",
              "        google.colab.kernel.accessAllowed ? 'block' : 'none';\n",
              "    })();\n",
              "  </script>\n",
              "</div>\n",
              "    </div>\n",
              "  </div>\n"
            ],
            "application/vnd.google.colaboratory.intrinsic+json": {
              "type": "dataframe",
              "variable_name": "data",
              "summary": "{\n  \"name\": \"data\",\n  \"rows\": 20000,\n  \"fields\": [\n    {\n      \"column\": \"content\",\n      \"properties\": {\n        \"dtype\": \"string\",\n        \"num_unique_values\": 19948,\n        \"samples\": [\n          \"i feel like she acts bitchy and complainy to try and fit in but that doesnt make sense because for the most part were not bitchy and complainy\",\n          \"i do however feel myself feeling a bit reluctant\",\n          \"i think like all australians i know the image so well it will be interesting to see how i feel when were there and yes lovely kay we are going to view it at sunrise\"\n        ],\n        \"semantic_type\": \"\",\n        \"description\": \"\"\n      }\n    },\n    {\n      \"column\": \"sentiment\",\n      \"properties\": {\n        \"dtype\": \"category\",\n        \"num_unique_values\": 6,\n        \"samples\": [\n          \"sadness\",\n          \"anger\",\n          \"joy\"\n        ],\n        \"semantic_type\": \"\",\n        \"description\": \"\"\n      }\n    },\n    {\n      \"column\": \"length\",\n      \"properties\": {\n        \"dtype\": \"number\",\n        \"std\": 10,\n        \"min\": 2,\n        \"max\": 66,\n        \"num_unique_values\": 64,\n        \"samples\": [\n          61,\n          62,\n          4\n        ],\n        \"semantic_type\": \"\",\n        \"description\": \"\"\n      }\n    }\n  ]\n}"
            }
          },
          "metadata": {},
          "execution_count": 11
        }
      ]
    },
    {
      "cell_type": "markdown",
      "metadata": {
        "id": "Wr1wXlzTcv-e"
      },
      "source": [
        "## 1.2 Text Preprocessing"
      ]
    },
    {
      "cell_type": "code",
      "metadata": {
        "_uuid": "abeab4c80d6829cf2eae706bfa7929e2871af81f",
        "scrolled": true,
        "execution": {
          "iopub.status.busy": "2021-09-30T19:35:04.887097Z",
          "iopub.execute_input": "2021-09-30T19:35:04.887365Z",
          "iopub.status.idle": "2021-09-30T19:35:04.893353Z",
          "shell.execute_reply.started": "2021-09-30T19:35:04.887338Z",
          "shell.execute_reply": "2021-09-30T19:35:04.892628Z"
        },
        "trusted": true,
        "id": "sBFSp7-Rcv-s"
      },
      "source": [
        "emojis = pd.read_csv('/content/Dataset/emojis.txt',sep=',',header=None)\n",
        "emojis_dict = {i:j for i,j in zip(emojis[0],emojis[1])}\n",
        "pattern = '|'.join(sorted(re.escape(k) for k in emojis_dict))\n",
        "\n",
        "def replace_emojis(text):\n",
        "    text = re.sub(pattern,lambda m: emojis_dict.get(m.group(0)), text, flags=re.IGNORECASE)\n",
        "    return text\n",
        "\n",
        "def remove_punct(text):\n",
        "    text = replace_emojis(text)\n",
        "    text  = \"\".join([char for char in text if char not in string.punctuation])\n",
        "    text = re.sub('[0-9]+', '', text)\n",
        "    return text\n",
        "\n",
        "def clean_text(x):\n",
        "    pattern = r'[^a-zA-z0-9\\s]'\n",
        "    text = re.sub(pattern, '', x)\n",
        "    return x\n",
        "\n",
        "contraction_dict = {\"ain't\": \"is not\", \"aren't\": \"are not\",\"can't\": \"cannot\", \"'cause\": \"because\", \"could've\": \"could have\", \"couldn't\": \"could not\", \"didn't\": \"did not\",  \"doesn't\": \"does not\", \"don't\": \"do not\", \"hadn't\": \"had not\", \"hasn't\": \"has not\", \"haven't\": \"have not\", \"he'd\": \"he would\",\"he'll\": \"he will\", \"he's\": \"he is\", \"how'd\": \"how did\", \"how'd'y\": \"how do you\", \"how'll\": \"how will\", \"how's\": \"how is\",  \"I'd\": \"I would\", \"I'd've\": \"I would have\", \"I'll\": \"I will\", \"I'll've\": \"I will have\",\"I'm\": \"I am\",\"im\":\"i am\", \"I've\": \"I have\", \"i'd\": \"i would\", \"i'd've\": \"i would have\", \"i'll\": \"i will\",  \"i'll've\": \"i will have\",\"i'm\": \"i am\", \"i've\": \"i have\", \"isn't\": \"is not\", \"it'd\": \"it would\", \"it'd've\": \"it would have\", \"it'll\": \"it will\", \"it'll've\": \"it will have\",\"it's\": \"it is\", \"let's\": \"let us\", \"ma'am\": \"madam\", \"mayn't\": \"may not\", \"might've\": \"might have\",\"mightn't\": \"might not\",\"mightn't've\": \"might not have\", \"must've\": \"must have\", \"mustn't\": \"must not\", \"mustn't've\": \"must not have\", \"needn't\": \"need not\", \"needn't've\": \"need not have\",\"o'clock\": \"of the clock\", \"oughtn't\": \"ought not\", \"oughtn't've\": \"ought not have\", \"shan't\": \"shall not\", \"sha'n't\": \"shall not\", \"shan't've\": \"shall not have\", \"she'd\": \"she would\", \"she'd've\": \"she would have\", \"she'll\": \"she will\", \"she'll've\": \"she will have\", \"she's\": \"she is\", \"should've\": \"should have\", \"shouldn't\": \"should not\", \"shouldn't've\": \"should not have\", \"so've\": \"so have\",\"so's\": \"so as\", \"this's\": \"this is\",\"that'd\": \"that would\", \"that'd've\": \"that would have\", \"that's\": \"that is\", \"there'd\": \"there would\", \"there'd've\": \"there would have\", \"there's\": \"there is\", \"here's\": \"here is\",\"they'd\": \"they would\", \"they'd've\": \"they would have\", \"they'll\": \"they will\", \"they'll've\": \"they will have\", \"they're\": \"they are\", \"they've\": \"they have\", \"to've\": \"to have\", \"wasn't\": \"was not\", \"we'd\": \"we would\", \"we'd've\": \"we would have\", \"we'll\": \"we will\", \"we'll've\": \"we will have\", \"we're\": \"we are\", \"we've\": \"we have\", \"weren't\": \"were not\", \"what'll\": \"what will\", \"what'll've\": \"what will have\", \"what're\": \"what are\",  \"what's\": \"what is\", \"what've\": \"what have\", \"when's\": \"when is\", \"when've\": \"when have\", \"where'd\": \"where did\", \"where's\": \"where is\", \"where've\": \"where have\", \"who'll\": \"who will\", \"who'll've\": \"who will have\", \"who's\": \"who is\", \"who've\": \"who have\", \"why's\": \"why is\", \"why've\": \"why have\", \"will've\": \"will have\", \"won't\": \"will not\", \"won't've\": \"will not have\", \"would've\": \"would have\", \"wouldn't\": \"would not\", \"wouldn't've\": \"would not have\", \"y'all\": \"you all\", \"y'all'd\": \"you all would\",\"y'all'd've\": \"you all would have\",\"y'all're\": \"you all are\",\"y'all've\": \"you all have\",\"you'd\": \"you would\", \"you'd've\": \"you would have\", \"you'll\": \"you will\", \"you'll've\": \"you will have\", \"you're\": \"you are\", \"you've\": \"you have\"}\n",
        "def _get_contractions(contraction_dict):\n",
        "    contraction_re = re.compile('(%s)' % '|'.join(contraction_dict.keys()))\n",
        "    return contraction_dict, contraction_re\n",
        "contractions, contractions_re = _get_contractions(contraction_dict)\n",
        "\n",
        "def replace_contractions(text):\n",
        "    def replace(match):\n",
        "        return contractions[match.group(0)]\n",
        "    return contractions_re.sub(replace, text)\n",
        "# Usage\n",
        "replace_contractions(\"i didn't feel humiliated\")\n",
        "\n",
        "def text_preprocessing(text):\n",
        "    text = replace_contractions(text)\n",
        "    text = remove_punct(text)\n",
        "    text = clean_text(text)\n",
        "    text = text.lower()\n",
        "    return text\n"
      ],
      "execution_count": null,
      "outputs": []
    },
    {
      "cell_type": "code",
      "metadata": {
        "execution": {
          "iopub.status.busy": "2021-09-30T19:35:09.612933Z",
          "iopub.execute_input": "2021-09-30T19:35:09.613808Z",
          "iopub.status.idle": "2021-09-30T19:35:10.409129Z",
          "shell.execute_reply.started": "2021-09-30T19:35:09.613759Z",
          "shell.execute_reply": "2021-09-30T19:35:10.408045Z"
        },
        "trusted": true,
        "id": "soyLlUkBcv-t",
        "colab": {
          "base_uri": "https://localhost:8080/",
          "height": 423
        },
        "outputId": "10312ce4-5218-4639-9841-e8d51db40f4a"
      },
      "source": [
        "data[\"content\"] = data[\"content\"].apply(lambda x: text_preprocessing(x))\n",
        "data"
      ],
      "execution_count": null,
      "outputs": [
        {
          "output_type": "execute_result",
          "data": {
            "text/plain": [
              "                                                 content sentiment  length\n",
              "0                                i didnt feel humiliated   sadness       4\n",
              "1      i can go from feeling so hopeless to so damned...   sadness      21\n",
              "2      i am grabbing a minute to post i feel greedy w...     anger      10\n",
              "3      i am ever feeling nostalgic about the fireplac...      love      18\n",
              "4                                   i am feeling grouchy     anger       4\n",
              "...                                                  ...       ...     ...\n",
              "19995  i am having ssa examination tomorrow in the mo...   sadness      34\n",
              "19996  i constantly worry about their fight against n...       joy      29\n",
              "19997  i feel its i amportant to share this info for ...       joy      15\n",
              "19998  i truly feel that if you are passionate enough...       joy      19\n",
              "19999  i feel like i just wanna buy any cute make up ...       joy      18\n",
              "\n",
              "[20000 rows x 3 columns]"
            ],
            "text/html": [
              "\n",
              "  <div id=\"df-56077a28-5509-4441-bb82-070b001fb363\" class=\"colab-df-container\">\n",
              "    <div>\n",
              "<style scoped>\n",
              "    .dataframe tbody tr th:only-of-type {\n",
              "        vertical-align: middle;\n",
              "    }\n",
              "\n",
              "    .dataframe tbody tr th {\n",
              "        vertical-align: top;\n",
              "    }\n",
              "\n",
              "    .dataframe thead th {\n",
              "        text-align: right;\n",
              "    }\n",
              "</style>\n",
              "<table border=\"1\" class=\"dataframe\">\n",
              "  <thead>\n",
              "    <tr style=\"text-align: right;\">\n",
              "      <th></th>\n",
              "      <th>content</th>\n",
              "      <th>sentiment</th>\n",
              "      <th>length</th>\n",
              "    </tr>\n",
              "  </thead>\n",
              "  <tbody>\n",
              "    <tr>\n",
              "      <th>0</th>\n",
              "      <td>i didnt feel humiliated</td>\n",
              "      <td>sadness</td>\n",
              "      <td>4</td>\n",
              "    </tr>\n",
              "    <tr>\n",
              "      <th>1</th>\n",
              "      <td>i can go from feeling so hopeless to so damned...</td>\n",
              "      <td>sadness</td>\n",
              "      <td>21</td>\n",
              "    </tr>\n",
              "    <tr>\n",
              "      <th>2</th>\n",
              "      <td>i am grabbing a minute to post i feel greedy w...</td>\n",
              "      <td>anger</td>\n",
              "      <td>10</td>\n",
              "    </tr>\n",
              "    <tr>\n",
              "      <th>3</th>\n",
              "      <td>i am ever feeling nostalgic about the fireplac...</td>\n",
              "      <td>love</td>\n",
              "      <td>18</td>\n",
              "    </tr>\n",
              "    <tr>\n",
              "      <th>4</th>\n",
              "      <td>i am feeling grouchy</td>\n",
              "      <td>anger</td>\n",
              "      <td>4</td>\n",
              "    </tr>\n",
              "    <tr>\n",
              "      <th>...</th>\n",
              "      <td>...</td>\n",
              "      <td>...</td>\n",
              "      <td>...</td>\n",
              "    </tr>\n",
              "    <tr>\n",
              "      <th>19995</th>\n",
              "      <td>i am having ssa examination tomorrow in the mo...</td>\n",
              "      <td>sadness</td>\n",
              "      <td>34</td>\n",
              "    </tr>\n",
              "    <tr>\n",
              "      <th>19996</th>\n",
              "      <td>i constantly worry about their fight against n...</td>\n",
              "      <td>joy</td>\n",
              "      <td>29</td>\n",
              "    </tr>\n",
              "    <tr>\n",
              "      <th>19997</th>\n",
              "      <td>i feel its i amportant to share this info for ...</td>\n",
              "      <td>joy</td>\n",
              "      <td>15</td>\n",
              "    </tr>\n",
              "    <tr>\n",
              "      <th>19998</th>\n",
              "      <td>i truly feel that if you are passionate enough...</td>\n",
              "      <td>joy</td>\n",
              "      <td>19</td>\n",
              "    </tr>\n",
              "    <tr>\n",
              "      <th>19999</th>\n",
              "      <td>i feel like i just wanna buy any cute make up ...</td>\n",
              "      <td>joy</td>\n",
              "      <td>18</td>\n",
              "    </tr>\n",
              "  </tbody>\n",
              "</table>\n",
              "<p>20000 rows × 3 columns</p>\n",
              "</div>\n",
              "    <div class=\"colab-df-buttons\">\n",
              "\n",
              "  <div class=\"colab-df-container\">\n",
              "    <button class=\"colab-df-convert\" onclick=\"convertToInteractive('df-56077a28-5509-4441-bb82-070b001fb363')\"\n",
              "            title=\"Convert this dataframe to an interactive table.\"\n",
              "            style=\"display:none;\">\n",
              "\n",
              "  <svg xmlns=\"http://www.w3.org/2000/svg\" height=\"24px\" viewBox=\"0 -960 960 960\">\n",
              "    <path d=\"M120-120v-720h720v720H120Zm60-500h600v-160H180v160Zm220 220h160v-160H400v160Zm0 220h160v-160H400v160ZM180-400h160v-160H180v160Zm440 0h160v-160H620v160ZM180-180h160v-160H180v160Zm440 0h160v-160H620v160Z\"/>\n",
              "  </svg>\n",
              "    </button>\n",
              "\n",
              "  <style>\n",
              "    .colab-df-container {\n",
              "      display:flex;\n",
              "      gap: 12px;\n",
              "    }\n",
              "\n",
              "    .colab-df-convert {\n",
              "      background-color: #E8F0FE;\n",
              "      border: none;\n",
              "      border-radius: 50%;\n",
              "      cursor: pointer;\n",
              "      display: none;\n",
              "      fill: #1967D2;\n",
              "      height: 32px;\n",
              "      padding: 0 0 0 0;\n",
              "      width: 32px;\n",
              "    }\n",
              "\n",
              "    .colab-df-convert:hover {\n",
              "      background-color: #E2EBFA;\n",
              "      box-shadow: 0px 1px 2px rgba(60, 64, 67, 0.3), 0px 1px 3px 1px rgba(60, 64, 67, 0.15);\n",
              "      fill: #174EA6;\n",
              "    }\n",
              "\n",
              "    .colab-df-buttons div {\n",
              "      margin-bottom: 4px;\n",
              "    }\n",
              "\n",
              "    [theme=dark] .colab-df-convert {\n",
              "      background-color: #3B4455;\n",
              "      fill: #D2E3FC;\n",
              "    }\n",
              "\n",
              "    [theme=dark] .colab-df-convert:hover {\n",
              "      background-color: #434B5C;\n",
              "      box-shadow: 0px 1px 3px 1px rgba(0, 0, 0, 0.15);\n",
              "      filter: drop-shadow(0px 1px 2px rgba(0, 0, 0, 0.3));\n",
              "      fill: #FFFFFF;\n",
              "    }\n",
              "  </style>\n",
              "\n",
              "    <script>\n",
              "      const buttonEl =\n",
              "        document.querySelector('#df-56077a28-5509-4441-bb82-070b001fb363 button.colab-df-convert');\n",
              "      buttonEl.style.display =\n",
              "        google.colab.kernel.accessAllowed ? 'block' : 'none';\n",
              "\n",
              "      async function convertToInteractive(key) {\n",
              "        const element = document.querySelector('#df-56077a28-5509-4441-bb82-070b001fb363');\n",
              "        const dataTable =\n",
              "          await google.colab.kernel.invokeFunction('convertToInteractive',\n",
              "                                                    [key], {});\n",
              "        if (!dataTable) return;\n",
              "\n",
              "        const docLinkHtml = 'Like what you see? Visit the ' +\n",
              "          '<a target=\"_blank\" href=https://colab.research.google.com/notebooks/data_table.ipynb>data table notebook</a>'\n",
              "          + ' to learn more about interactive tables.';\n",
              "        element.innerHTML = '';\n",
              "        dataTable['output_type'] = 'display_data';\n",
              "        await google.colab.output.renderOutput(dataTable, element);\n",
              "        const docLink = document.createElement('div');\n",
              "        docLink.innerHTML = docLinkHtml;\n",
              "        element.appendChild(docLink);\n",
              "      }\n",
              "    </script>\n",
              "  </div>\n",
              "\n",
              "\n",
              "<div id=\"df-07a8963d-b8d0-4afa-9c3e-8eed9ca18c88\">\n",
              "  <button class=\"colab-df-quickchart\" onclick=\"quickchart('df-07a8963d-b8d0-4afa-9c3e-8eed9ca18c88')\"\n",
              "            title=\"Suggest charts\"\n",
              "            style=\"display:none;\">\n",
              "\n",
              "<svg xmlns=\"http://www.w3.org/2000/svg\" height=\"24px\"viewBox=\"0 0 24 24\"\n",
              "     width=\"24px\">\n",
              "    <g>\n",
              "        <path d=\"M19 3H5c-1.1 0-2 .9-2 2v14c0 1.1.9 2 2 2h14c1.1 0 2-.9 2-2V5c0-1.1-.9-2-2-2zM9 17H7v-7h2v7zm4 0h-2V7h2v10zm4 0h-2v-4h2v4z\"/>\n",
              "    </g>\n",
              "</svg>\n",
              "  </button>\n",
              "\n",
              "<style>\n",
              "  .colab-df-quickchart {\n",
              "      --bg-color: #E8F0FE;\n",
              "      --fill-color: #1967D2;\n",
              "      --hover-bg-color: #E2EBFA;\n",
              "      --hover-fill-color: #174EA6;\n",
              "      --disabled-fill-color: #AAA;\n",
              "      --disabled-bg-color: #DDD;\n",
              "  }\n",
              "\n",
              "  [theme=dark] .colab-df-quickchart {\n",
              "      --bg-color: #3B4455;\n",
              "      --fill-color: #D2E3FC;\n",
              "      --hover-bg-color: #434B5C;\n",
              "      --hover-fill-color: #FFFFFF;\n",
              "      --disabled-bg-color: #3B4455;\n",
              "      --disabled-fill-color: #666;\n",
              "  }\n",
              "\n",
              "  .colab-df-quickchart {\n",
              "    background-color: var(--bg-color);\n",
              "    border: none;\n",
              "    border-radius: 50%;\n",
              "    cursor: pointer;\n",
              "    display: none;\n",
              "    fill: var(--fill-color);\n",
              "    height: 32px;\n",
              "    padding: 0;\n",
              "    width: 32px;\n",
              "  }\n",
              "\n",
              "  .colab-df-quickchart:hover {\n",
              "    background-color: var(--hover-bg-color);\n",
              "    box-shadow: 0 1px 2px rgba(60, 64, 67, 0.3), 0 1px 3px 1px rgba(60, 64, 67, 0.15);\n",
              "    fill: var(--button-hover-fill-color);\n",
              "  }\n",
              "\n",
              "  .colab-df-quickchart-complete:disabled,\n",
              "  .colab-df-quickchart-complete:disabled:hover {\n",
              "    background-color: var(--disabled-bg-color);\n",
              "    fill: var(--disabled-fill-color);\n",
              "    box-shadow: none;\n",
              "  }\n",
              "\n",
              "  .colab-df-spinner {\n",
              "    border: 2px solid var(--fill-color);\n",
              "    border-color: transparent;\n",
              "    border-bottom-color: var(--fill-color);\n",
              "    animation:\n",
              "      spin 1s steps(1) infinite;\n",
              "  }\n",
              "\n",
              "  @keyframes spin {\n",
              "    0% {\n",
              "      border-color: transparent;\n",
              "      border-bottom-color: var(--fill-color);\n",
              "      border-left-color: var(--fill-color);\n",
              "    }\n",
              "    20% {\n",
              "      border-color: transparent;\n",
              "      border-left-color: var(--fill-color);\n",
              "      border-top-color: var(--fill-color);\n",
              "    }\n",
              "    30% {\n",
              "      border-color: transparent;\n",
              "      border-left-color: var(--fill-color);\n",
              "      border-top-color: var(--fill-color);\n",
              "      border-right-color: var(--fill-color);\n",
              "    }\n",
              "    40% {\n",
              "      border-color: transparent;\n",
              "      border-right-color: var(--fill-color);\n",
              "      border-top-color: var(--fill-color);\n",
              "    }\n",
              "    60% {\n",
              "      border-color: transparent;\n",
              "      border-right-color: var(--fill-color);\n",
              "    }\n",
              "    80% {\n",
              "      border-color: transparent;\n",
              "      border-right-color: var(--fill-color);\n",
              "      border-bottom-color: var(--fill-color);\n",
              "    }\n",
              "    90% {\n",
              "      border-color: transparent;\n",
              "      border-bottom-color: var(--fill-color);\n",
              "    }\n",
              "  }\n",
              "</style>\n",
              "\n",
              "  <script>\n",
              "    async function quickchart(key) {\n",
              "      const quickchartButtonEl =\n",
              "        document.querySelector('#' + key + ' button');\n",
              "      quickchartButtonEl.disabled = true;  // To prevent multiple clicks.\n",
              "      quickchartButtonEl.classList.add('colab-df-spinner');\n",
              "      try {\n",
              "        const charts = await google.colab.kernel.invokeFunction(\n",
              "            'suggestCharts', [key], {});\n",
              "      } catch (error) {\n",
              "        console.error('Error during call to suggestCharts:', error);\n",
              "      }\n",
              "      quickchartButtonEl.classList.remove('colab-df-spinner');\n",
              "      quickchartButtonEl.classList.add('colab-df-quickchart-complete');\n",
              "    }\n",
              "    (() => {\n",
              "      let quickchartButtonEl =\n",
              "        document.querySelector('#df-07a8963d-b8d0-4afa-9c3e-8eed9ca18c88 button');\n",
              "      quickchartButtonEl.style.display =\n",
              "        google.colab.kernel.accessAllowed ? 'block' : 'none';\n",
              "    })();\n",
              "  </script>\n",
              "</div>\n",
              "    </div>\n",
              "  </div>\n"
            ],
            "application/vnd.google.colaboratory.intrinsic+json": {
              "type": "dataframe",
              "variable_name": "data",
              "summary": "{\n  \"name\": \"data\",\n  \"rows\": 20000,\n  \"fields\": [\n    {\n      \"column\": \"content\",\n      \"properties\": {\n        \"dtype\": \"string\",\n        \"num_unique_values\": 19945,\n        \"samples\": [\n          \"i want to believe its how my kids will feel whenever i become rich and famous and move on to the mansion that is waiting for me\",\n          \"i have a feeling something startled her but either way she started on my shoulder and ended up across the room a very slow flutter mind you\",\n          \"i am afraid to call the guy from yesterday because i think hell be angry because i think my boss is angry because i dont communicate with hi am and i feel like i am doing a shitty job and i project my fears onto hi am\"\n        ],\n        \"semantic_type\": \"\",\n        \"description\": \"\"\n      }\n    },\n    {\n      \"column\": \"sentiment\",\n      \"properties\": {\n        \"dtype\": \"category\",\n        \"num_unique_values\": 6,\n        \"samples\": [\n          \"sadness\",\n          \"anger\",\n          \"joy\"\n        ],\n        \"semantic_type\": \"\",\n        \"description\": \"\"\n      }\n    },\n    {\n      \"column\": \"length\",\n      \"properties\": {\n        \"dtype\": \"number\",\n        \"std\": 10,\n        \"min\": 2,\n        \"max\": 66,\n        \"num_unique_values\": 64,\n        \"samples\": [\n          61,\n          62,\n          4\n        ],\n        \"semantic_type\": \"\",\n        \"description\": \"\"\n      }\n    }\n  ]\n}"
            }
          },
          "metadata": {},
          "execution_count": 15
        }
      ]
    },
    {
      "cell_type": "code",
      "metadata": {
        "trusted": true,
        "id": "2HesT_Kbcv-v",
        "colab": {
          "base_uri": "https://localhost:8080/"
        },
        "outputId": "07ef07af-2377-4344-8fe3-e8496f201910"
      },
      "source": [
        "data['sentiment'].unique()"
      ],
      "execution_count": null,
      "outputs": [
        {
          "output_type": "execute_result",
          "data": {
            "text/plain": [
              "array(['sadness', 'anger', 'love', 'surprise', 'fear', 'joy'],\n",
              "      dtype=object)"
            ]
          },
          "metadata": {},
          "execution_count": 16
        }
      ]
    },
    {
      "cell_type": "markdown",
      "metadata": {
        "id": "FZmiLL1GWgsf"
      },
      "source": [
        "## 1.3 Train Test Split\n",
        "  Train Size = 80%\n",
        "\n",
        "  Test Size = 20%"
      ]
    },
    {
      "cell_type": "code",
      "metadata": {
        "execution": {
          "iopub.status.busy": "2021-09-30T19:35:14.091669Z",
          "iopub.execute_input": "2021-09-30T19:35:14.091937Z",
          "iopub.status.idle": "2021-09-30T19:35:14.133030Z",
          "shell.execute_reply.started": "2021-09-30T19:35:14.091910Z",
          "shell.execute_reply": "2021-09-30T19:35:14.132312Z"
        },
        "trusted": true,
        "id": "IJ_tS9Xkcv-w"
      },
      "source": [
        "from sklearn.model_selection import train_test_split\n",
        "\n",
        "X_train, X_test, y_train, y_test = train_test_split(data['content'], data['sentiment'],\n",
        "                                                    stratify=data['sentiment'],\n",
        "                                                    test_size=0.2)"
      ],
      "execution_count": null,
      "outputs": []
    },
    {
      "cell_type": "code",
      "metadata": {
        "_uuid": "63cb21525251b060aeb309e7be4b48772f8720f5",
        "scrolled": true,
        "execution": {
          "iopub.status.busy": "2021-09-30T18:41:47.206736Z",
          "iopub.execute_input": "2021-09-30T18:41:47.207403Z",
          "iopub.status.idle": "2021-09-30T18:41:47.211827Z",
          "shell.execute_reply.started": "2021-09-30T18:41:47.207368Z",
          "shell.execute_reply": "2021-09-30T18:41:47.211098Z"
        },
        "trusted": true,
        "id": "kfW9kVldcv-x",
        "colab": {
          "base_uri": "https://localhost:8080/"
        },
        "outputId": "8645e240-f0de-48f2-e0a0-bd75d7f0b525"
      },
      "source": [
        "print(\"Train shape : \",X_train.shape)\n",
        "print(\"Test shape : \",X_test.shape)"
      ],
      "execution_count": null,
      "outputs": [
        {
          "output_type": "stream",
          "name": "stdout",
          "text": [
            "Train shape :  (16000,)\n",
            "Test shape :  (4000,)\n"
          ]
        }
      ]
    },
    {
      "cell_type": "markdown",
      "metadata": {
        "id": "odTQO9SPWqsC"
      },
      "source": [
        "## 1.4 Padding Dataset\n",
        "  Maximum Length = 70"
      ]
    },
    {
      "cell_type": "code",
      "metadata": {
        "execution": {
          "iopub.status.busy": "2021-09-30T19:35:17.086561Z",
          "iopub.execute_input": "2021-09-30T19:35:17.086814Z",
          "iopub.status.idle": "2021-09-30T19:35:18.020017Z",
          "shell.execute_reply.started": "2021-09-30T19:35:17.086789Z",
          "shell.execute_reply": "2021-09-30T19:35:18.019226Z"
        },
        "trusted": true,
        "id": "v-5r2dxDcv-y"
      },
      "source": [
        "## Tokenize the sentences\n",
        "tokenizer = Tokenizer(num_words=max_features)\n",
        "tokenizer.fit_on_texts(list(X_train))\n",
        "train_X = tokenizer.texts_to_sequences(X_train)\n",
        "test_X = tokenizer.texts_to_sequences(X_test)\n",
        "\n",
        "## Pad the sentences\n",
        "train_X = pad_sequences(train_X, maxlen=maxlen, truncating='post', padding='post')\n",
        "test_X = pad_sequences(test_X, maxlen=maxlen, truncating='post', padding='post')"
      ],
      "execution_count": null,
      "outputs": []
    },
    {
      "cell_type": "code",
      "metadata": {
        "execution": {
          "iopub.status.busy": "2021-09-30T19:35:19.348318Z",
          "iopub.execute_input": "2021-09-30T19:35:19.350469Z",
          "iopub.status.idle": "2021-09-30T19:35:19.361761Z",
          "shell.execute_reply.started": "2021-09-30T19:35:19.350408Z",
          "shell.execute_reply": "2021-09-30T19:35:19.360985Z"
        },
        "trusted": true,
        "id": "cwyGgtKTcv-y",
        "colab": {
          "base_uri": "https://localhost:8080/"
        },
        "outputId": "133db139-c6c9-4c53-c748-99df69ba07a5"
      },
      "source": [
        "from sklearn.preprocessing import LabelEncoder\n",
        "le = LabelEncoder()\n",
        "train_y = le.fit_transform(y_train.values)\n",
        "test_y = le.transform(y_test.values)\n",
        "le.classes_"
      ],
      "execution_count": null,
      "outputs": [
        {
          "output_type": "execute_result",
          "data": {
            "text/plain": [
              "array(['anger', 'fear', 'joy', 'love', 'sadness', 'surprise'],\n",
              "      dtype=object)"
            ]
          },
          "metadata": {},
          "execution_count": 20
        }
      ]
    },
    {
      "cell_type": "markdown",
      "metadata": {
        "id": "Auu4EnADBtux"
      },
      "source": [
        "# 2. Word Emebedding (Glove.6B.300d)"
      ]
    },
    {
      "cell_type": "markdown",
      "metadata": {
        "_uuid": "e5c51a8329d569d13b9f0369ebb98ca8e2e55440",
        "id": "KGG7Y14pcv-z"
      },
      "source": [
        "## 2.1 Load Embeddings\n"
      ]
    },
    {
      "cell_type": "code",
      "metadata": {
        "execution": {
          "iopub.status.busy": "2021-09-30T19:35:22.346394Z",
          "iopub.execute_input": "2021-09-30T19:35:22.346867Z",
          "iopub.status.idle": "2021-09-30T19:35:22.354466Z",
          "shell.execute_reply.started": "2021-09-30T19:35:22.346831Z",
          "shell.execute_reply": "2021-09-30T19:35:22.353778Z"
        },
        "trusted": true,
        "id": "sh2aItIxcv-z",
        "colab": {
          "base_uri": "https://localhost:8080/",
          "height": 315
        },
        "outputId": "e8ddc5b1-6cfb-491b-bdd3-140da387cd72"
      },
      "source": [
        "def load_glove(word_index):\n",
        "    EMBEDDING_FILE = '/content/'+'Word Embedding (glove 6B)/glove.6B.300d.txt'\n",
        "    def get_coefs(word,*arr): return word, np.asarray(arr, dtype='float32')[:300]\n",
        "    embeddings_index = dict(get_coefs(*o.split(\" \")) for o in open(EMBEDDING_FILE))\n",
        "\n",
        "    all_embs = np.stack(embeddings_index.values())\n",
        "    emb_mean,emb_std = -0.005838499,0.48782197\n",
        "    embed_size = all_embs.shape[1]\n",
        "\n",
        "    nb_words = min(max_features, len(word_index)+1)\n",
        "    embedding_matrix = np.random.normal(emb_mean, emb_std, (nb_words, embed_size))\n",
        "    for word, i in word_index.items():\n",
        "        if i >= max_features: continue\n",
        "        embedding_vector = embeddings_index.get(word)\n",
        "        if embedding_vector is not None:\n",
        "            embedding_matrix[i] = embedding_vector\n",
        "        else:\n",
        "            embedding_vector = embeddings_index.get(word.capitalize())\n",
        "            if embedding_vector is not None:\n",
        "                embedding_matrix[i] = embedding_vector\n",
        "    return embedding_matrix\n",
        "embedding_matrix = load_glove(tokenizer.word_index)\n",
        "print('Shape of word embedding:',np.shape(embedding_matrix))"
      ],
      "execution_count": null,
      "outputs": [
        {
          "output_type": "error",
          "ename": "FileNotFoundError",
          "evalue": "[Errno 2] No such file or directory: '/content/Word Embedding (glove 6B)/glove.6B.300d.txt'",
          "traceback": [
            "\u001b[0;31m---------------------------------------------------------------------------\u001b[0m",
            "\u001b[0;31mFileNotFoundError\u001b[0m                         Traceback (most recent call last)",
            "\u001b[0;32m<ipython-input-37-363bbeff28b1>\u001b[0m in \u001b[0;36m<cell line: 22>\u001b[0;34m()\u001b[0m\n\u001b[1;32m     20\u001b[0m                 \u001b[0membedding_matrix\u001b[0m\u001b[0;34m[\u001b[0m\u001b[0mi\u001b[0m\u001b[0;34m]\u001b[0m \u001b[0;34m=\u001b[0m \u001b[0membedding_vector\u001b[0m\u001b[0;34m\u001b[0m\u001b[0;34m\u001b[0m\u001b[0m\n\u001b[1;32m     21\u001b[0m     \u001b[0;32mreturn\u001b[0m \u001b[0membedding_matrix\u001b[0m\u001b[0;34m\u001b[0m\u001b[0;34m\u001b[0m\u001b[0m\n\u001b[0;32m---> 22\u001b[0;31m \u001b[0membedding_matrix\u001b[0m \u001b[0;34m=\u001b[0m \u001b[0mload_glove\u001b[0m\u001b[0;34m(\u001b[0m\u001b[0mtokenizer\u001b[0m\u001b[0;34m.\u001b[0m\u001b[0mword_index\u001b[0m\u001b[0;34m)\u001b[0m\u001b[0;34m\u001b[0m\u001b[0;34m\u001b[0m\u001b[0m\n\u001b[0m\u001b[1;32m     23\u001b[0m \u001b[0mprint\u001b[0m\u001b[0;34m(\u001b[0m\u001b[0;34m'Shape of word embedding:'\u001b[0m\u001b[0;34m,\u001b[0m\u001b[0mnp\u001b[0m\u001b[0;34m.\u001b[0m\u001b[0mshape\u001b[0m\u001b[0;34m(\u001b[0m\u001b[0membedding_matrix\u001b[0m\u001b[0;34m)\u001b[0m\u001b[0;34m)\u001b[0m\u001b[0;34m\u001b[0m\u001b[0;34m\u001b[0m\u001b[0m\n",
            "\u001b[0;32m<ipython-input-37-363bbeff28b1>\u001b[0m in \u001b[0;36mload_glove\u001b[0;34m(word_index)\u001b[0m\n\u001b[1;32m      2\u001b[0m     \u001b[0mEMBEDDING_FILE\u001b[0m \u001b[0;34m=\u001b[0m \u001b[0;34m'/content/'\u001b[0m\u001b[0;34m+\u001b[0m\u001b[0;34m'Word Embedding (glove 6B)/glove.6B.300d.txt'\u001b[0m\u001b[0;34m\u001b[0m\u001b[0;34m\u001b[0m\u001b[0m\n\u001b[1;32m      3\u001b[0m     \u001b[0;32mdef\u001b[0m \u001b[0mget_coefs\u001b[0m\u001b[0;34m(\u001b[0m\u001b[0mword\u001b[0m\u001b[0;34m,\u001b[0m\u001b[0;34m*\u001b[0m\u001b[0marr\u001b[0m\u001b[0;34m)\u001b[0m\u001b[0;34m:\u001b[0m \u001b[0;32mreturn\u001b[0m \u001b[0mword\u001b[0m\u001b[0;34m,\u001b[0m \u001b[0mnp\u001b[0m\u001b[0;34m.\u001b[0m\u001b[0masarray\u001b[0m\u001b[0;34m(\u001b[0m\u001b[0marr\u001b[0m\u001b[0;34m,\u001b[0m \u001b[0mdtype\u001b[0m\u001b[0;34m=\u001b[0m\u001b[0;34m'float32'\u001b[0m\u001b[0;34m)\u001b[0m\u001b[0;34m[\u001b[0m\u001b[0;34m:\u001b[0m\u001b[0;36m300\u001b[0m\u001b[0;34m]\u001b[0m\u001b[0;34m\u001b[0m\u001b[0;34m\u001b[0m\u001b[0m\n\u001b[0;32m----> 4\u001b[0;31m     \u001b[0membeddings_index\u001b[0m \u001b[0;34m=\u001b[0m \u001b[0mdict\u001b[0m\u001b[0;34m(\u001b[0m\u001b[0mget_coefs\u001b[0m\u001b[0;34m(\u001b[0m\u001b[0;34m*\u001b[0m\u001b[0mo\u001b[0m\u001b[0;34m.\u001b[0m\u001b[0msplit\u001b[0m\u001b[0;34m(\u001b[0m\u001b[0;34m\" \"\u001b[0m\u001b[0;34m)\u001b[0m\u001b[0;34m)\u001b[0m \u001b[0;32mfor\u001b[0m \u001b[0mo\u001b[0m \u001b[0;32min\u001b[0m \u001b[0mopen\u001b[0m\u001b[0;34m(\u001b[0m\u001b[0mEMBEDDING_FILE\u001b[0m\u001b[0;34m)\u001b[0m\u001b[0;34m)\u001b[0m\u001b[0;34m\u001b[0m\u001b[0;34m\u001b[0m\u001b[0m\n\u001b[0m\u001b[1;32m      5\u001b[0m \u001b[0;34m\u001b[0m\u001b[0m\n\u001b[1;32m      6\u001b[0m     \u001b[0mall_embs\u001b[0m \u001b[0;34m=\u001b[0m \u001b[0mnp\u001b[0m\u001b[0;34m.\u001b[0m\u001b[0mstack\u001b[0m\u001b[0;34m(\u001b[0m\u001b[0membeddings_index\u001b[0m\u001b[0;34m.\u001b[0m\u001b[0mvalues\u001b[0m\u001b[0;34m(\u001b[0m\u001b[0;34m)\u001b[0m\u001b[0;34m)\u001b[0m\u001b[0;34m\u001b[0m\u001b[0;34m\u001b[0m\u001b[0m\n",
            "\u001b[0;31mFileNotFoundError\u001b[0m: [Errno 2] No such file or directory: '/content/Word Embedding (glove 6B)/glove.6B.300d.txt'"
          ]
        }
      ]
    },
    {
      "cell_type": "markdown",
      "metadata": {
        "_uuid": "0a78496e4d88d8fb351cdf26d02f1554821ed445",
        "id": "MWIIi8LMcv-2"
      },
      "source": [
        "# 3. Convolutional Neural Network (CNN)"
      ]
    },
    {
      "cell_type": "code",
      "metadata": {
        "execution": {
          "iopub.status.busy": "2021-09-30T19:46:31.935651Z",
          "iopub.execute_input": "2021-09-30T19:46:31.936451Z",
          "iopub.status.idle": "2021-09-30T19:46:31.945967Z",
          "shell.execute_reply.started": "2021-09-30T19:46:31.936392Z",
          "shell.execute_reply": "2021-09-30T19:46:31.945133Z"
        },
        "trusted": true,
        "id": "GJqxJVLicv-2"
      },
      "source": [
        "class CNN(nn.Module):\n",
        "\n",
        "    def __init__(self,num_filters,filter_sizes,n_classes):\n",
        "        super(CNN, self).__init__()\n",
        "\n",
        "        self.embedding = nn.Embedding(max_features, embed_size)\n",
        "        self.embedding.weight = nn.Parameter(torch.tensor(embedding_matrix, dtype=torch.float32))\n",
        "        self.embedding.weight.requires_grad = False\n",
        "        self.convs1 = nn.ModuleList([nn.Conv2d(1, num_filters, (K, embed_size)) for K in filter_sizes])\n",
        "        self.dropout = nn.Dropout(0.1)\n",
        "        self.fc1 = nn.Linear(len(filter_sizes)*num_filters, n_classes)\n",
        "\n",
        "    def forward(self, x):\n",
        "        x = self.embedding(x)\n",
        "        x = x.unsqueeze(1)\n",
        "        x = [F.relu(conv(x)).squeeze(3) for conv in self.convs1]\n",
        "        x = [F.max_pool1d(i, i.size(2)).squeeze(2) for i in x]\n",
        "        x = torch.cat(x, 1)\n",
        "        x = self.dropout(x)\n",
        "        logit = self.fc1(x)\n",
        "        return logit"
      ],
      "execution_count": null,
      "outputs": []
    },
    {
      "cell_type": "markdown",
      "metadata": {
        "id": "99_ILn3JYDOf"
      },
      "source": [
        "## 3.1 Setting Hyperparameters"
      ]
    },
    {
      "cell_type": "code",
      "metadata": {
        "id": "L91cCh7JYGU1"
      },
      "source": [
        "n_epochs = 30\n",
        "filter_sizes = [2,3,5]\n",
        "num_filters = 32\n",
        "n_classes = len(le.classes_)\n",
        "batch_size = 512"
      ],
      "execution_count": null,
      "outputs": []
    },
    {
      "cell_type": "markdown",
      "metadata": {
        "_uuid": "0da30e2afce23b753796f3045b44ce91a07e4303",
        "id": "tGR7WOijcv-2"
      },
      "source": [
        "## 3.2 Model Evaluation"
      ]
    },
    {
      "cell_type": "code",
      "metadata": {
        "_uuid": "6a5afb54f70a29808af19946ba08ef971d194e46",
        "execution": {
          "iopub.status.busy": "2021-09-30T19:46:37.587921Z",
          "iopub.execute_input": "2021-09-30T19:46:37.588189Z",
          "iopub.status.idle": "2021-09-30T20:01:41.695104Z",
          "shell.execute_reply.started": "2021-09-30T19:46:37.588161Z",
          "shell.execute_reply": "2021-09-30T20:01:41.694201Z"
        },
        "trusted": true,
        "id": "K38R_qUmcv-3",
        "colab": {
          "base_uri": "https://localhost:8080/"
        },
        "outputId": "d4832112-8ffb-43bf-f9ae-def2315501eb"
      },
      "source": [
        "# Device configuration\n",
        "device = torch.device('cuda' if torch.cuda.is_available() else 'cpu')\n",
        "\n",
        "model_cnn = CNN(num_filters,filter_sizes,n_classes).to(device)\n",
        "loss_fn = nn.CrossEntropyLoss(reduction='mean')\n",
        "optimizer = torch.optim.Adam(filter(lambda p: p.requires_grad, model_cnn.parameters()), lr=0.001)\n",
        "\n",
        "# Load train and test in CUDA or CPU Memory\n",
        "x_train = torch.tensor(train_X, dtype=torch.long).to(device)\n",
        "y_train = torch.tensor(train_y, dtype=torch.long).to(device)\n",
        "x_cv = torch.tensor(test_X, dtype=torch.long).to(device)\n",
        "y_cv = torch.tensor(test_y, dtype=torch.long).to(device)\n",
        "\n",
        "# Create Torch datasets\n",
        "train = torch.utils.data.TensorDataset(x_train, y_train)\n",
        "valid = torch.utils.data.TensorDataset(x_cv, y_cv)\n",
        "\n",
        "# Create Data Loaders\n",
        "train_loader = torch.utils.data.DataLoader(train, batch_size=batch_size, shuffle=False)\n",
        "valid_loader = torch.utils.data.DataLoader(valid, batch_size=batch_size, shuffle=False)\n",
        "\n",
        "cnn_train_loss = []\n",
        "cnn_valid_loss = []\n",
        "cnn_train_acc_list, cnn_test_acc_list, cnn_prec_list, cnn_recall_list, cnn_f1_list = [],[],[],[],[]\n",
        "\n",
        "for epoch in range(n_epochs):\n",
        "    start_time = time.time()\n",
        "    # Set model to train configuration\n",
        "    model_cnn.train()\n",
        "    avg_loss = 0.\n",
        "    train_preds = np.zeros((len(x_train),len(le.classes_)))\n",
        "    for i, (x_batch, y_batch) in enumerate(train_loader):\n",
        "        # Predict/Forward Pass\n",
        "        y_pred = model_cnn(x_batch)\n",
        "\n",
        "        # Compute loss\n",
        "        loss = loss_fn(y_pred, y_batch)\n",
        "        optimizer.zero_grad()\n",
        "        loss.backward()\n",
        "        optimizer.step()\n",
        "        train_preds[i * batch_size:(i+1) * batch_size] =F.softmax(y_pred).detach().cpu().numpy()\n",
        "        avg_loss += loss.item() / len(train_loader)\n",
        "\n",
        "\n",
        "    y_pred_train = train_preds.argmax(axis=1)\n",
        "    train_accuracy = round(accuracy_score(y_pred_train,train_y)*100,3)\n",
        "\n",
        "    # Set model to validation configuration -Doesn't get trained here\n",
        "    model_cnn.eval()\n",
        "    avg_val_loss = 0.\n",
        "    val_preds = np.zeros((len(x_cv),len(le.classes_)))\n",
        "\n",
        "    for i, (x_batch, y_batch) in enumerate(valid_loader):\n",
        "        y_pred = model_cnn(x_batch).detach()\n",
        "        avg_val_loss += loss_fn(y_pred, y_batch).item() / len(valid_loader)\n",
        "        # keep/store predictions\n",
        "        val_preds[i * batch_size:(i+1) * batch_size] =F.softmax(y_pred).cpu().numpy()\n",
        "\n",
        "    # Determining Accuracy, Precision, Recall, F1 Score\n",
        "    y_pred = val_preds.argmax(axis=1)\n",
        "    test_accuracy = round(accuracy_score(y_pred,test_y)*100,3)\n",
        "    test_precision = round(precision_score(y_pred,test_y, average='weighted')*100,3)\n",
        "    test_recall = round(np.mean(recall_score(y_pred, test_y, average='weighted'))*100,3)\n",
        "    test_f1_score = round(f1_score(y_pred, test_y, average='weighted')*100,3)\n",
        "\n",
        "\n",
        "    # storing accuracy,precision,recall,f1 score data into list\n",
        "    cnn_train_loss.append(avg_loss)\n",
        "    cnn_valid_loss.append(avg_val_loss)\n",
        "    cnn_train_acc_list.append(train_accuracy)\n",
        "    cnn_test_acc_list.append(test_accuracy)\n",
        "    cnn_prec_list.append(test_precision)\n",
        "    cnn_recall_list.append(test_recall)\n",
        "    cnn_f1_list.append(test_f1_score)\n",
        "    elapsed_time = time.time() - start_time\n",
        "    print('Epoch {}/{}  Train loss={:.3f}   Test loss={:.3f}   Train Accuracy={:.3f}   Test Accuracy={:.3f}   Precision={:.3f}   Recall={:.3f}   F1 Score={:.3f}   time={:.2f} s'.format(\n",
        "                epoch + 1, n_epochs, avg_loss, avg_val_loss, train_accuracy, test_accuracy, test_precision, test_recall, test_f1_score, elapsed_time))"
      ],
      "execution_count": null,
      "outputs": [
        {
          "output_type": "stream",
          "name": "stdout",
          "text": [
            "Epoch 1/30  Train loss=1.506   Test loss=1.311   Train Accuracy=42.312   Test Accuracy=53.225   Precision=84.878   Recall=53.225   F1 Score=65.235   time=1.23 s\n",
            "Epoch 2/30  Train loss=1.117   Test loss=0.901   Train Accuracy=60.362   Test Accuracy=69.325   Precision=82.144   Recall=69.325   F1 Score=73.246   time=0.87 s\n",
            "Epoch 3/30  Train loss=0.773   Test loss=0.635   Train Accuracy=73.731   Test Accuracy=78.225   Precision=81.585   Recall=78.225   F1 Score=79.054   time=0.87 s\n",
            "Epoch 4/30  Train loss=0.567   Test loss=0.493   Train Accuracy=81.181   Test Accuracy=82.750   Precision=83.859   Recall=82.750   F1 Score=83.000   time=0.87 s\n",
            "Epoch 5/30  Train loss=0.449   Test loss=0.418   Train Accuracy=85.125   Test Accuracy=84.850   Precision=85.500   Recall=84.850   F1 Score=84.950   time=0.87 s\n",
            "Epoch 6/30  Train loss=0.375   Test loss=0.367   Train Accuracy=87.425   Test Accuracy=86.850   Precision=87.158   Recall=86.850   F1 Score=86.897   time=0.86 s\n",
            "Epoch 7/30  Train loss=0.324   Test loss=0.337   Train Accuracy=89.269   Test Accuracy=87.675   Precision=87.930   Recall=87.675   F1 Score=87.707   time=1.00 s\n",
            "Epoch 8/30  Train loss=0.284   Test loss=0.315   Train Accuracy=90.356   Test Accuracy=88.225   Precision=88.397   Recall=88.225   F1 Score=88.241   time=0.87 s\n",
            "Epoch 9/30  Train loss=0.249   Test loss=0.297   Train Accuracy=91.769   Test Accuracy=88.675   Precision=88.706   Recall=88.675   F1 Score=88.666   time=0.87 s\n",
            "Epoch 10/30  Train loss=0.222   Test loss=0.286   Train Accuracy=92.656   Test Accuracy=88.550   Precision=88.692   Recall=88.550   F1 Score=88.566   time=0.87 s\n",
            "Epoch 11/30  Train loss=0.202   Test loss=0.278   Train Accuracy=93.356   Test Accuracy=89.025   Precision=89.065   Recall=89.025   F1 Score=89.008   time=0.87 s\n",
            "Epoch 12/30  Train loss=0.185   Test loss=0.272   Train Accuracy=94.044   Test Accuracy=89.100   Precision=89.192   Recall=89.100   F1 Score=89.117   time=0.87 s\n",
            "Epoch 13/30  Train loss=0.166   Test loss=0.265   Train Accuracy=94.675   Test Accuracy=89.275   Precision=89.282   Recall=89.275   F1 Score=89.269   time=0.87 s\n",
            "Epoch 14/30  Train loss=0.149   Test loss=0.263   Train Accuracy=95.694   Test Accuracy=89.525   Precision=89.469   Recall=89.525   F1 Score=89.477   time=0.87 s\n",
            "Epoch 15/30  Train loss=0.137   Test loss=0.262   Train Accuracy=95.912   Test Accuracy=89.150   Precision=89.257   Recall=89.150   F1 Score=89.153   time=0.87 s\n",
            "Epoch 16/30  Train loss=0.127   Test loss=0.258   Train Accuracy=96.112   Test Accuracy=89.425   Precision=89.421   Recall=89.425   F1 Score=89.404   time=0.99 s\n",
            "Epoch 17/30  Train loss=0.118   Test loss=0.256   Train Accuracy=96.600   Test Accuracy=89.350   Precision=89.324   Recall=89.350   F1 Score=89.322   time=0.87 s\n",
            "Epoch 18/30  Train loss=0.110   Test loss=0.260   Train Accuracy=96.962   Test Accuracy=89.450   Precision=89.371   Recall=89.450   F1 Score=89.390   time=0.87 s\n",
            "Epoch 19/30  Train loss=0.100   Test loss=0.256   Train Accuracy=97.356   Test Accuracy=89.700   Precision=89.652   Recall=89.700   F1 Score=89.667   time=0.87 s\n",
            "Epoch 20/30  Train loss=0.092   Test loss=0.257   Train Accuracy=97.444   Test Accuracy=89.525   Precision=89.477   Recall=89.525   F1 Score=89.495   time=0.87 s\n",
            "Epoch 21/30  Train loss=0.084   Test loss=0.263   Train Accuracy=97.719   Test Accuracy=89.600   Precision=89.576   Recall=89.600   F1 Score=89.548   time=0.87 s\n",
            "Epoch 22/30  Train loss=0.080   Test loss=0.262   Train Accuracy=97.962   Test Accuracy=89.675   Precision=89.675   Recall=89.675   F1 Score=89.648   time=0.86 s\n",
            "Epoch 23/30  Train loss=0.078   Test loss=0.263   Train Accuracy=97.975   Test Accuracy=89.450   Precision=89.429   Recall=89.450   F1 Score=89.417   time=0.87 s\n",
            "Epoch 24/30  Train loss=0.073   Test loss=0.263   Train Accuracy=98.156   Test Accuracy=89.350   Precision=89.352   Recall=89.350   F1 Score=89.321   time=0.87 s\n",
            "Epoch 25/30  Train loss=0.067   Test loss=0.261   Train Accuracy=98.269   Test Accuracy=89.850   Precision=89.795   Recall=89.850   F1 Score=89.795   time=0.87 s\n",
            "Epoch 26/30  Train loss=0.066   Test loss=0.264   Train Accuracy=98.381   Test Accuracy=89.925   Precision=89.876   Recall=89.925   F1 Score=89.851   time=0.87 s\n",
            "Epoch 27/30  Train loss=0.063   Test loss=0.263   Train Accuracy=98.406   Test Accuracy=89.950   Precision=89.902   Recall=89.950   F1 Score=89.885   time=0.87 s\n",
            "Epoch 28/30  Train loss=0.059   Test loss=0.260   Train Accuracy=98.619   Test Accuracy=89.775   Precision=89.780   Recall=89.775   F1 Score=89.769   time=0.87 s\n",
            "Epoch 29/30  Train loss=0.054   Test loss=0.260   Train Accuracy=98.688   Test Accuracy=90.000   Precision=90.052   Recall=90.000   F1 Score=90.013   time=0.88 s\n",
            "Epoch 30/30  Train loss=0.052   Test loss=0.262   Train Accuracy=98.844   Test Accuracy=89.875   Precision=89.886   Recall=89.875   F1 Score=89.852   time=1.01 s\n"
          ]
        }
      ]
    },
    {
      "cell_type": "markdown",
      "metadata": {
        "id": "xpp3Uw7bBLzG"
      },
      "source": [
        "## 3.3 Save a Model"
      ]
    },
    {
      "cell_type": "code",
      "metadata": {
        "execution": {
          "iopub.status.busy": "2021-09-30T20:01:57.061486Z",
          "iopub.execute_input": "2021-09-30T20:01:57.062289Z",
          "iopub.status.idle": "2021-09-30T20:01:57.124652Z",
          "shell.execute_reply.started": "2021-09-30T20:01:57.062242Z",
          "shell.execute_reply": "2021-09-30T20:01:57.123651Z"
        },
        "trusted": true,
        "id": "MEZgqZZAcv-4"
      },
      "source": [
        "save_model = False\n",
        "if save_model is True:\n",
        "    torch.save(model_cnn,root_path+'Model Checkpoints/cnn_model_300d_epoch30.pkl')"
      ],
      "execution_count": null,
      "outputs": []
    },
    {
      "cell_type": "markdown",
      "metadata": {
        "id": "e9ns4Yk-lGcF"
      },
      "source": [
        "## 3.4 Load a Mdoel"
      ]
    },
    {
      "cell_type": "code",
      "metadata": {
        "id": "SVgx6k5plIts"
      },
      "source": [
        "load_model = False\n",
        "if load_model is True:\n",
        "    model.load_state_dict(torch.load(root_path + 'Model Checkpoints/cnn_model_300d_epoch30.pkl'))"
      ],
      "execution_count": null,
      "outputs": []
    },
    {
      "cell_type": "markdown",
      "metadata": {
        "id": "ytkY6WYbCOUO"
      },
      "source": [
        "## 3.5 Model Visualization"
      ]
    },
    {
      "cell_type": "markdown",
      "metadata": {
        "id": "INRAuXjB_8fu"
      },
      "source": [
        "### 3.5.1 Model Performance of CNN"
      ]
    },
    {
      "cell_type": "code",
      "metadata": {
        "colab": {
          "base_uri": "https://localhost:8080/",
          "height": 404
        },
        "id": "5w5SNTaG-46S",
        "outputId": "fff738ba-3359-4fff-ce40-3e6c2ea2189d"
      },
      "source": [
        "plt.plot(cnn_train_acc_list, linestyle='-', label='Train Accuracy')\n",
        "plt.plot(cnn_test_acc_list, linestyle='-', label='Test Accuracy')\n",
        "\n",
        "plt.title('Model Performance')\n",
        "plt.xlabel('Epoch')\n",
        "plt.ylabel('Accuracy')\n",
        "plt.legend(loc='bottom right',ncol=2)\n",
        "# plt.ylim(5.55,11.55)\n",
        "plt.rcParams[\"figure.figsize\"] = (10,6)\n",
        "plt.savefig(root_path+'Figures/final_cnn_model_performance_300d_epoch30.jpg')\n",
        "plt.show()"
      ],
      "execution_count": null,
      "outputs": [
        {
          "output_type": "display_data",
          "data": {
            "image/png": "[encoded data removed]",
            "text/plain": [
              "<Figure size 720x432 with 1 Axes>"
            ]
          },
          "metadata": {
            "needs_background": "light"
          }
        }
      ]
    },
    {
      "cell_type": "markdown",
      "metadata": {
        "id": "yN2SYZvPAef3"
      },
      "source": [
        "### 3.5.2 Loss Curve of CNN"
      ]
    },
    {
      "cell_type": "code",
      "metadata": {
        "colab": {
          "base_uri": "https://localhost:8080/",
          "height": 404
        },
        "id": "-SNU2MxH_GS9",
        "outputId": "b69949a9-b651-4277-9b89-c903eee6100d"
      },
      "source": [
        "plt.plot(cnn_train_loss, linestyle='-', label='Train Loss')\n",
        "plt.plot(cnn_valid_loss, linestyle='-', label='Test Loss')\n",
        "\n",
        "plt.title('Loss curve')\n",
        "plt.xlabel('Epoch')\n",
        "plt.ylabel('Loss')\n",
        "plt.legend(loc='bottom right',ncol=2)\n",
        "plt.rcParams[\"figure.figsize\"] = (10,6)\n",
        "plt.savefig(root_path+'Figures/final_cnn_loss_curve_300d_epoch30.jpg')\n",
        "plt.show()"
      ],
      "execution_count": null,
      "outputs": [
        {
          "output_type": "display_data",
          "data": {
            "image/png": "[encoded data removed]",
            "text/plain": [
              "<Figure size 720x432 with 1 Axes>"
            ]
          },
          "metadata": {
            "needs_background": "light"
          }
        }
      ]
    },
    {
      "cell_type": "markdown",
      "metadata": {
        "id": "0wHoFZrJAt2n"
      },
      "source": [
        "### 3.5.3 Confusion Matrix"
      ]
    },
    {
      "cell_type": "code",
      "metadata": {
        "trusted": true,
        "id": "65eFqID-cv-5",
        "colab": {
          "base_uri": "https://localhost:8080/",
          "height": 490
        },
        "outputId": "37d8e333-f156-4ffa-d616-5686f97e4d5e"
      },
      "source": [
        "y_true = [le.classes_[x] for x in test_y]\n",
        "y_pred = [le.classes_[x] for x in val_preds.argmax(axis=1)]\n",
        "\n",
        "cnn_cm = confusion_matrix(y_true, y_pred, labels=le.classes_)\n",
        "cm_display = ConfusionMatrixDisplay(cnn_cm, display_labels=le.classes_)\n",
        "fig, ax = plt.subplots(figsize=(8,8)) # adjust the size\n",
        "cm_display.plot(ax=ax,cmap='Blues',values_format='')"
      ],
      "execution_count": null,
      "outputs": [
        {
          "output_type": "execute_result",
          "data": {
            "text/plain": [
              "<sklearn.metrics._plot.confusion_matrix.ConfusionMatrixDisplay at 0x7f577dde7c50>"
            ]
          },
          "metadata": {},
          "execution_count": 26
        },
        {
          "output_type": "display_data",
          "data": {
            "image/png": "[encoded data removed]",
            "text/plain": [
              "<Figure size 576x576 with 2 Axes>"
            ]
          },
          "metadata": {
            "needs_background": "light"
          }
        }
      ]
    },
    {
      "cell_type": "markdown",
      "metadata": {
        "id": "d-yUs71gcv-5"
      },
      "source": [
        "# 4. Bidirectional Long Short Term Memory (Bi-LSTM)"
      ]
    },
    {
      "cell_type": "markdown",
      "metadata": {
        "id": "O8FP8A4Ffphw"
      },
      "source": [
        "## 4.1 Setting Hyperparameters"
      ]
    },
    {
      "cell_type": "code",
      "metadata": {
        "execution": {
          "iopub.status.busy": "2021-09-30T19:41:27.806618Z",
          "iopub.execute_input": "2021-09-30T19:41:27.807160Z",
          "iopub.status.idle": "2021-09-30T19:41:27.815961Z",
          "shell.execute_reply.started": "2021-09-30T19:41:27.807124Z",
          "shell.execute_reply": "2021-09-30T19:41:27.815318Z"
        },
        "trusted": true,
        "id": "vNVf7B3Pcv-5"
      },
      "source": [
        "class BiLSTM(nn.Module):\n",
        "    def __init__(self,n_classes):\n",
        "        super(BiLSTM, self).__init__()\n",
        "        n_classes = len(le.classes_)\n",
        "        self.hidden_size = 64\n",
        "        self.embedding = nn.Embedding(max_features, embed_size)\n",
        "        self.embedding.weight = nn.Parameter(torch.tensor(embedding_matrix, dtype=torch.float32))\n",
        "        self.embedding.weight.requires_grad = False\n",
        "        self.lstm = nn.LSTM(embed_size, self.hidden_size,num_layers=1, bidirectional=True, batch_first=True)\n",
        "        self.linear = nn.Linear(self.hidden_size*4 , 32)\n",
        "        self.relu = nn.ReLU()\n",
        "        self.dropout = nn.Dropout(0.1)\n",
        "        self.out = nn.Linear(32, n_classes)\n",
        "\n",
        "\n",
        "    def forward(self, x):\n",
        "        h_embedding = self.embedding(x)\n",
        "        h_lstm, _ = self.lstm(h_embedding)\n",
        "        avg_pool = torch.mean(h_lstm, 1)\n",
        "        max_pool, _ = torch.max(h_lstm, 1)\n",
        "        conc = torch.cat(( avg_pool, max_pool), 1)\n",
        "        conc = self.relu(self.linear(conc))\n",
        "        conc = self.dropout(conc)\n",
        "        out = self.out(conc)\n",
        "        return out"
      ],
      "execution_count": null,
      "outputs": []
    },
    {
      "cell_type": "markdown",
      "metadata": {
        "id": "m2oah4p9BBhe"
      },
      "source": [
        "## 4.2 Model Evaluation"
      ]
    },
    {
      "cell_type": "code",
      "metadata": {
        "execution": {
          "iopub.status.busy": "2021-09-30T19:41:30.427375Z",
          "iopub.execute_input": "2021-09-30T19:41:30.428019Z",
          "iopub.status.idle": "2021-09-30T19:41:37.855270Z",
          "shell.execute_reply.started": "2021-09-30T19:41:30.427984Z",
          "shell.execute_reply": "2021-09-30T19:41:37.853555Z"
        },
        "trusted": true,
        "id": "Lj3Yt52Ycv-6",
        "colab": {
          "base_uri": "https://localhost:8080/"
        },
        "outputId": "47d002aa-efde-4e5b-90ec-12c5cc70a37f"
      },
      "source": [
        "model = BiLSTM(n_classes).to(device)\n",
        "loss_fn = nn.CrossEntropyLoss(reduction='mean')\n",
        "optimizer = torch.optim.Adam(filter(lambda p: p.requires_grad, model.parameters()), lr=0.001)\n",
        "\n",
        "# Load train and test in CUDA or CPU Memory\n",
        "x_train = torch.tensor(train_X, dtype=torch.long).to(device)\n",
        "y_train = torch.tensor(train_y, dtype=torch.long).to(device)\n",
        "x_cv = torch.tensor(test_X, dtype=torch.long).to(device)\n",
        "y_cv = torch.tensor(test_y, dtype=torch.long).to(device)\n",
        "\n",
        "# Create Torch datasets\n",
        "train = torch.utils.data.TensorDataset(x_train, y_train)\n",
        "valid = torch.utils.data.TensorDataset(x_cv, y_cv)\n",
        "\n",
        "# Create Data Loaders\n",
        "train_loader = torch.utils.data.DataLoader(train, batch_size=batch_size, shuffle=False)\n",
        "valid_loader = torch.utils.data.DataLoader(valid, batch_size=batch_size, shuffle=False)\n",
        "\n",
        "train_loss = []\n",
        "valid_loss = []\n",
        "train_acc_list, test_acc_list, prec_list, recall_list, f1_list = [],[],[],[],[]\n",
        "\n",
        "for epoch in range(n_epochs):\n",
        "    start_time = time.time()\n",
        "    # Set model to train configuration\n",
        "    model.train()\n",
        "    avg_loss = 0.\n",
        "    train_preds = np.zeros((len(x_train),len(le.classes_)))\n",
        "    for i, (x_batch, y_batch) in enumerate(train_loader):\n",
        "        # Predict/Forward Pass\n",
        "        y_pred = model(x_batch)\n",
        "\n",
        "        # Compute loss\n",
        "        loss = loss_fn(y_pred, y_batch)\n",
        "        optimizer.zero_grad()\n",
        "        loss.backward()\n",
        "        optimizer.step()\n",
        "        train_preds[i * batch_size:(i+1) * batch_size] =F.softmax(y_pred).detach().cpu().numpy()\n",
        "        avg_loss += loss.item() / len(train_loader)\n",
        "\n",
        "\n",
        "    y_pred_train = train_preds.argmax(axis=1)\n",
        "    train_accuracy = round(accuracy_score(y_pred_train,train_y)*100,3)\n",
        "\n",
        "    # Set model to validation configuration -Doesn't get trained here\n",
        "    model.eval()\n",
        "    avg_val_loss = 0.\n",
        "    val_preds = np.zeros((len(x_cv),len(le.classes_)))\n",
        "\n",
        "    for i, (x_batch, y_batch) in enumerate(valid_loader):\n",
        "        y_pred = model(x_batch).detach()\n",
        "        avg_val_loss += loss_fn(y_pred, y_batch).item() / len(valid_loader)\n",
        "        # keep/store predictions\n",
        "        val_preds[i * batch_size:(i+1) * batch_size] =F.softmax(y_pred).cpu().numpy()\n",
        "\n",
        "    # Check Accuracy\n",
        "    y_pred = val_preds.argmax(axis=1)\n",
        "    test_accuracy = round(accuracy_score(y_pred,test_y)*100,3)\n",
        "    test_precision = round(precision_score(y_pred,test_y, average='weighted')*100,3)\n",
        "    test_recall = round(np.mean(recall_score(y_pred, test_y, average='weighted'))*100,3)\n",
        "    test_f1_score = round(f1_score(y_pred, test_y, average='weighted')*100,3)\n",
        "\n",
        "\n",
        "    # storing accuracy,precision,recall,f1 score data into list\n",
        "    train_loss.append(avg_loss)\n",
        "    valid_loss.append(avg_val_loss)\n",
        "    train_acc_list.append(train_accuracy)\n",
        "    test_acc_list.append(test_accuracy)\n",
        "    prec_list.append(test_precision)\n",
        "    recall_list.append(test_recall)\n",
        "    f1_list.append(test_f1_score)\n",
        "    elapsed_time = time.time() - start_time\n",
        "    print('Epoch {}/{}  Train loss={:.3f}   Test loss={:.3f}   Train Accuracy={:.3f}   Test Accuracy={:.3f}   Precision={:.3f}   Recall={:.3f}   F1 Score={:.3f}   time={:.2f} s'.format(\n",
        "                epoch + 1, n_epochs, avg_loss, avg_val_loss, train_accuracy, test_accuracy, test_precision, test_recall, test_f1_score, elapsed_time))"
      ],
      "execution_count": null,
      "outputs": [
        {
          "output_type": "stream",
          "name": "stdout",
          "text": [
            "Epoch 1/30  Train loss=1.614   Test loss=1.558   Train Accuracy=31.825   Test Accuracy=35.525   Precision=95.347   Recall=35.525   F1 Score=50.183   time=1.62 s\n",
            "Epoch 2/30  Train loss=1.504   Test loss=1.358   Train Accuracy=43.706   Test Accuracy=52.825   Precision=83.725   Recall=52.825   F1 Score=64.594   time=1.61 s\n",
            "Epoch 3/30  Train loss=1.251   Test loss=1.124   Train Accuracy=54.069   Test Accuracy=56.500   Precision=89.887   Recall=56.500   F1 Score=68.694   time=1.46 s\n",
            "Epoch 4/30  Train loss=1.065   Test loss=0.956   Train Accuracy=57.556   Test Accuracy=59.300   Precision=91.069   Recall=59.300   F1 Score=70.826   time=1.47 s\n",
            "Epoch 5/30  Train loss=0.867   Test loss=0.710   Train Accuracy=66.594   Test Accuracy=74.875   Precision=84.580   Recall=74.875   F1 Score=78.437   time=1.46 s\n",
            "Epoch 6/30  Train loss=0.637   Test loss=0.516   Train Accuracy=77.812   Test Accuracy=83.200   Precision=86.978   Recall=83.200   F1 Score=84.893   time=1.47 s\n",
            "Epoch 7/30  Train loss=0.488   Test loss=0.406   Train Accuracy=83.081   Test Accuracy=86.250   Precision=88.607   Recall=86.250   F1 Score=87.129   time=1.46 s\n",
            "Epoch 8/30  Train loss=0.382   Test loss=0.345   Train Accuracy=86.788   Test Accuracy=87.975   Precision=89.013   Recall=87.975   F1 Score=88.322   time=1.46 s\n",
            "Epoch 9/30  Train loss=0.314   Test loss=0.290   Train Accuracy=89.131   Test Accuracy=89.050   Precision=89.397   Recall=89.050   F1 Score=89.163   time=1.47 s\n",
            "Epoch 10/30  Train loss=0.258   Test loss=0.257   Train Accuracy=90.731   Test Accuracy=89.875   Precision=89.970   Recall=89.875   F1 Score=89.886   time=1.46 s\n",
            "Epoch 11/30  Train loss=0.224   Test loss=0.258   Train Accuracy=91.800   Test Accuracy=89.650   Precision=90.224   Recall=89.650   F1 Score=89.779   time=1.47 s\n",
            "Epoch 12/30  Train loss=0.193   Test loss=0.278   Train Accuracy=92.931   Test Accuracy=88.975   Precision=90.276   Recall=88.975   F1 Score=89.238   time=1.48 s\n",
            "Epoch 13/30  Train loss=0.172   Test loss=0.232   Train Accuracy=93.594   Test Accuracy=90.175   Precision=90.550   Recall=90.175   F1 Score=90.240   time=1.48 s\n",
            "Epoch 14/30  Train loss=0.162   Test loss=0.231   Train Accuracy=93.944   Test Accuracy=90.550   Precision=91.074   Recall=90.550   F1 Score=90.668   time=1.48 s\n",
            "Epoch 15/30  Train loss=0.157   Test loss=0.222   Train Accuracy=93.906   Test Accuracy=90.725   Precision=90.955   Recall=90.725   F1 Score=90.734   time=1.47 s\n",
            "Epoch 16/30  Train loss=0.140   Test loss=0.212   Train Accuracy=94.825   Test Accuracy=91.150   Precision=91.306   Recall=91.150   F1 Score=91.063   time=1.47 s\n",
            "Epoch 17/30  Train loss=0.123   Test loss=0.213   Train Accuracy=95.400   Test Accuracy=91.000   Precision=91.255   Recall=91.000   F1 Score=90.969   time=1.46 s\n",
            "Epoch 18/30  Train loss=0.109   Test loss=0.215   Train Accuracy=95.862   Test Accuracy=91.275   Precision=91.558   Recall=91.275   F1 Score=91.278   time=1.48 s\n",
            "Epoch 19/30  Train loss=0.103   Test loss=0.223   Train Accuracy=96.250   Test Accuracy=90.875   Precision=91.548   Recall=90.875   F1 Score=91.066   time=1.59 s\n",
            "Epoch 20/30  Train loss=0.095   Test loss=0.211   Train Accuracy=96.644   Test Accuracy=91.475   Precision=92.108   Recall=91.475   F1 Score=91.667   time=1.47 s\n",
            "Epoch 21/30  Train loss=0.095   Test loss=0.196   Train Accuracy=96.444   Test Accuracy=92.125   Precision=92.067   Recall=92.125   F1 Score=92.081   time=1.46 s\n",
            "Epoch 22/30  Train loss=0.097   Test loss=0.201   Train Accuracy=96.456   Test Accuracy=91.875   Precision=92.340   Recall=91.875   F1 Score=92.006   time=1.46 s\n",
            "Epoch 23/30  Train loss=0.085   Test loss=0.203   Train Accuracy=96.744   Test Accuracy=91.900   Precision=92.118   Recall=91.900   F1 Score=91.948   time=1.47 s\n",
            "Epoch 24/30  Train loss=0.087   Test loss=0.191   Train Accuracy=96.656   Test Accuracy=92.325   Precision=92.267   Recall=92.325   F1 Score=92.272   time=1.47 s\n",
            "Epoch 25/30  Train loss=0.086   Test loss=0.253   Train Accuracy=96.781   Test Accuracy=90.825   Precision=91.145   Recall=90.825   F1 Score=90.558   time=1.48 s\n",
            "Epoch 26/30  Train loss=0.077   Test loss=0.213   Train Accuracy=97.081   Test Accuracy=92.025   Precision=92.098   Recall=92.025   F1 Score=91.868   time=1.48 s\n",
            "Epoch 27/30  Train loss=0.059   Test loss=0.221   Train Accuracy=97.994   Test Accuracy=91.900   Precision=91.966   Recall=91.900   F1 Score=91.739   time=1.48 s\n",
            "Epoch 28/30  Train loss=0.057   Test loss=0.234   Train Accuracy=98.025   Test Accuracy=91.550   Precision=91.678   Recall=91.550   F1 Score=91.378   time=1.47 s\n",
            "Epoch 29/30  Train loss=0.050   Test loss=0.214   Train Accuracy=98.356   Test Accuracy=91.925   Precision=91.953   Recall=91.925   F1 Score=91.846   time=1.48 s\n",
            "Epoch 30/30  Train loss=0.047   Test loss=0.220   Train Accuracy=98.462   Test Accuracy=91.925   Precision=91.941   Recall=91.925   F1 Score=91.826   time=1.48 s\n"
          ]
        }
      ]
    },
    {
      "cell_type": "markdown",
      "metadata": {
        "id": "aoJWkI7XKdJk"
      },
      "source": [
        "## 4.3 Save a Model"
      ]
    },
    {
      "cell_type": "code",
      "metadata": {
        "trusted": true,
        "id": "Nezje0Fzcv-9"
      },
      "source": [
        "save_model = False\n",
        "if save_model is True:\n",
        "    torch.save(model,root_path+'Model Checkpoints/final_bilstm_model_300d_layer1_epoch30.pkl')"
      ],
      "execution_count": null,
      "outputs": []
    },
    {
      "cell_type": "markdown",
      "metadata": {
        "id": "-zS8VazYiEpV"
      },
      "source": [
        "## 4.4 Load the Model"
      ]
    },
    {
      "cell_type": "code",
      "metadata": {
        "id": "uP_QLjWyiG3f"
      },
      "source": [
        "load_model = False\n",
        "if load_model is True:\n",
        "    model.load_state_dict(torch.load(root_path + 'Model Checkpoints/bilstm_model_300d_layer1_epoch30.pkl'))"
      ],
      "execution_count": null,
      "outputs": []
    },
    {
      "cell_type": "markdown",
      "metadata": {
        "id": "1xemog7yKf4T"
      },
      "source": [
        "## 4.5 Model Visualization"
      ]
    },
    {
      "cell_type": "markdown",
      "metadata": {
        "id": "juzNxSxUK0A2"
      },
      "source": [
        "### 4.5.1 Model Performance of Bi-LSTM"
      ]
    },
    {
      "cell_type": "code",
      "metadata": {
        "colab": {
          "base_uri": "https://localhost:8080/",
          "height": 404
        },
        "id": "fkbvLwzV_esk",
        "outputId": "aa0cf7b1-53ae-4614-fcba-ad30d56d469e"
      },
      "source": [
        "plt.plot(train_acc_list, linestyle='-', label='Train Accuracy')\n",
        "plt.plot(test_acc_list, linestyle='-', label='Test Accuracy')\n",
        "\n",
        "plt.title('Model Performance')\n",
        "plt.xlabel('Epoch')\n",
        "plt.ylabel('Accuracy')\n",
        "plt.legend(loc='bottom right',ncol=2)\n",
        "# plt.ylim(5.55,11.55)\n",
        "plt.rcParams[\"figure.figsize\"] = (10,6)\n",
        "plt.savefig(root_path+'Figures/final_BiLSTM_model_performance_300d_layer1_epoch30.jpg')\n",
        "plt.show()"
      ],
      "execution_count": null,
      "outputs": [
        {
          "output_type": "display_data",
          "data": {
            "image/png": "[encoded data removed]",
            "text/plain": [
              "<Figure size 720x432 with 1 Axes>"
            ]
          },
          "metadata": {
            "needs_background": "light"
          }
        }
      ]
    },
    {
      "cell_type": "markdown",
      "metadata": {
        "id": "8fwQjHWbK6FX"
      },
      "source": [
        "### 4.5.2 Loss Curve of Bi-LSTM"
      ]
    },
    {
      "cell_type": "code",
      "metadata": {
        "trusted": true,
        "id": "b-suotxscv-8",
        "colab": {
          "base_uri": "https://localhost:8080/",
          "height": 404
        },
        "outputId": "f07b0326-4373-497c-c538-35b24038234f"
      },
      "source": [
        "plt.plot(train_loss, linestyle='-', label='Train Loss')\n",
        "plt.plot(valid_loss, linestyle='-', label='Test Loss')\n",
        "\n",
        "plt.title('Loss curve')\n",
        "plt.xlabel('Epoch')\n",
        "plt.ylabel('Loss')\n",
        "plt.legend(loc='bottom right',ncol=2)\n",
        "plt.rcParams[\"figure.figsize\"] = (10,6)\n",
        "plt.savefig(root_path+'Figures/final_BiLSTM_loss_curve_300d_layer1_epoch30.jpg')\n",
        "plt.show()"
      ],
      "execution_count": null,
      "outputs": [
        {
          "output_type": "display_data",
          "data": {
            "image/png": "[encoded data removed]",
            "text/plain": [
              "<Figure size 720x432 with 1 Axes>"
            ]
          },
          "metadata": {
            "needs_background": "light"
          }
        }
      ]
    },
    {
      "cell_type": "markdown",
      "metadata": {
        "id": "gau_dVYMKiwI"
      },
      "source": [
        "### 4.5.3 Confusion Matrix of Bi-LSTM"
      ]
    },
    {
      "cell_type": "code",
      "metadata": {
        "colab": {
          "base_uri": "https://localhost:8080/",
          "height": 580
        },
        "id": "43sPNGkuGJnw",
        "outputId": "990852f7-3183-4015-e841-82112b4937ff"
      },
      "source": [
        "y_true = [le.classes_[x] for x in test_y]\n",
        "y_pred = [le.classes_[x] for x in val_preds.argmax(axis=1)]\n",
        "\n",
        "cm_bilstm = confusion_matrix(y_true, y_pred, labels=le.classes_)\n",
        "cm_display = ConfusionMatrixDisplay(cm_bilstm, display_labels=le.classes_)\n",
        "fig, ax = plt.subplots(figsize=(10,10)) # adjust the size\n",
        "cm_display.plot(ax=ax,cmap='Purples',values_format='')\n",
        "plt.savefig(root_path+'Figures/final_BiLSTM_confusion_matrix_300d_layer1_epoch30.jpg')"
      ],
      "execution_count": null,
      "outputs": [
        {
          "output_type": "display_data",
          "data": {
            "image/png": "[encoded data removed]",
            "text/plain": [
              "<Figure size 720x720 with 2 Axes>"
            ]
          },
          "metadata": {
            "needs_background": "light"
          }
        }
      ]
    },
    {
      "cell_type": "markdown",
      "metadata": {
        "id": "ORsEsiYZlzIP"
      },
      "source": [
        "# 5. Model Summary"
      ]
    },
    {
      "cell_type": "markdown",
      "metadata": {
        "id": "kombMMbGl9_c"
      },
      "source": [
        "## 5.1 Comparison"
      ]
    },
    {
      "cell_type": "code",
      "metadata": {
        "colab": {
          "base_uri": "https://localhost:8080/",
          "height": 621
        },
        "id": "lZMtRajOHv9_",
        "outputId": "54bdd123-a8c8-43a9-e4a7-2c324342ab6e"
      },
      "source": [
        "fig = plt.figure(figsize = (12, 10))\n",
        "w =0.3\n",
        "x_axis = [\"Accuracy\",\"Precision\",\"Recal\",\"F1 score\"]\n",
        "cnn = []\n",
        "cnn.append(max(cnn_test_acc_list))\n",
        "cnn.append(max(cnn_prec_list))\n",
        "cnn.append(max(cnn_recall_list))\n",
        "cnn.append(max(cnn_f1_list))\n",
        "bilstm = []\n",
        "bilstm.append(max(test_acc_list))\n",
        "bilstm.append(max(prec_list))\n",
        "bilstm.append(max(recall_list))\n",
        "bilstm.append(max(f1_list))\n",
        "\n",
        "bar1 = np.arange(len(x_axis))\n",
        "bar2 = [i+w for i in bar1]\n",
        "\n",
        "plt.barh(bar1,cnn,w,label='CNN',color='#E396B6')\n",
        "plt.barh(bar2,bilstm,w,label='BiLSTM',color='#B096E3')\n",
        "\n",
        "plt.xlabel(\"Percentage\")\n",
        "plt.ylabel(\"Evaluation Matrix\")\n",
        "plt.title(\"Model Comparison\")\n",
        "plt.yticks((bar2+bar1)/2,x_axis)\n",
        "plt.xlim(0,110)\n",
        "plt.savefig(root_path+'Figures/final_all_model_performance_epoch30.jpg')\n",
        "plt.legend()\n",
        "plt.show()"
      ],
      "execution_count": null,
      "outputs": [
        {
          "output_type": "display_data",
          "data": {
            "image/png": "[encoded data removed]",
            "text/plain": [
              "<Figure size 864x720 with 1 Axes>"
            ]
          },
          "metadata": {
            "needs_background": "light"
          }
        }
      ]
    },
    {
      "cell_type": "code",
      "metadata": {
        "id": "PguLAN8AJpFP"
      },
      "source": [
        "def get_prec_recall_per_emotion(cm):\n",
        "    per_emotion_precision = []\n",
        "    for i in range(len(cm)):\n",
        "        count_per_emotion,accurate = 0,0\n",
        "        for j in range(len(cm)):\n",
        "            if i == j:\n",
        "                accurate = cm[j][i]\n",
        "            count_per_emotion += cm[j][i]\n",
        "        per_emotion_precision.append(round((accurate/count_per_emotion)*100,3))\n",
        "\n",
        "    per_emotion_recall = []\n",
        "    for i in range(len(cm)):\n",
        "        count_per_emotion,accurate = 0,0\n",
        "        for j in range(len(cm)):\n",
        "            if i == j:\n",
        "                accurate = cm[i][j]\n",
        "            count_per_emotion += cm[i][j]\n",
        "        per_emotion_recall.append(round((accurate/count_per_emotion)*100,3))\n",
        "\n",
        "    return per_emotion_precision, per_emotion_recall"
      ],
      "execution_count": null,
      "outputs": []
    },
    {
      "cell_type": "markdown",
      "metadata": {
        "id": "_vrS5GjlLdvI"
      },
      "source": [
        "## 5.2 Model Precision of all emotions"
      ]
    },
    {
      "cell_type": "code",
      "metadata": {
        "colab": {
          "base_uri": "https://localhost:8080/",
          "height": 237
        },
        "id": "KJEchVDWKMLE",
        "outputId": "884b753c-3e9a-49a1-d0f5-89bb85e6e8a2"
      },
      "source": [
        "bilstm_per_prec,bilstm_per_recall = get_prec_recall_per_emotion(cm_bilstm)\n",
        "cnn_per_prec,cnn_per_recall = get_prec_recall_per_emotion(cnn_cm)\n",
        "per_precision_list = pd.DataFrame({'CNN': cnn_per_prec,\n",
        "                              'Bi-LSTM' : bilstm_per_prec},\n",
        "                                index=le.classes_)\n",
        "per_precision_list"
      ],
      "execution_count": null,
      "outputs": [
        {
          "output_type": "execute_result",
          "data": {
            "text/html": [
              "<div>\n",
              "<style scoped>\n",
              "    .dataframe tbody tr th:only-of-type {\n",
              "        vertical-align: middle;\n",
              "    }\n",
              "\n",
              "    .dataframe tbody tr th {\n",
              "        vertical-align: top;\n",
              "    }\n",
              "\n",
              "    .dataframe thead th {\n",
              "        text-align: right;\n",
              "    }\n",
              "</style>\n",
              "<table border=\"1\" class=\"dataframe\">\n",
              "  <thead>\n",
              "    <tr style=\"text-align: right;\">\n",
              "      <th></th>\n",
              "      <th>CNN</th>\n",
              "      <th>Bi-LSTM</th>\n",
              "    </tr>\n",
              "  </thead>\n",
              "  <tbody>\n",
              "    <tr>\n",
              "      <th>anger</th>\n",
              "      <td>91.493</td>\n",
              "      <td>89.771</td>\n",
              "    </tr>\n",
              "    <tr>\n",
              "      <th>fear</th>\n",
              "      <td>88.143</td>\n",
              "      <td>90.639</td>\n",
              "    </tr>\n",
              "    <tr>\n",
              "      <th>joy</th>\n",
              "      <td>93.369</td>\n",
              "      <td>95.603</td>\n",
              "    </tr>\n",
              "    <tr>\n",
              "      <th>love</th>\n",
              "      <td>77.077</td>\n",
              "      <td>77.635</td>\n",
              "    </tr>\n",
              "    <tr>\n",
              "      <th>sadness</th>\n",
              "      <td>92.050</td>\n",
              "      <td>96.972</td>\n",
              "    </tr>\n",
              "    <tr>\n",
              "      <th>surprise</th>\n",
              "      <td>71.242</td>\n",
              "      <td>72.561</td>\n",
              "    </tr>\n",
              "  </tbody>\n",
              "</table>\n",
              "</div>"
            ],
            "text/plain": [
              "             CNN  Bi-LSTM\n",
              "anger     91.493   89.771\n",
              "fear      88.143   90.639\n",
              "joy       93.369   95.603\n",
              "love      77.077   77.635\n",
              "sadness   92.050   96.972\n",
              "surprise  71.242   72.561"
            ]
          },
          "metadata": {},
          "execution_count": 44
        }
      ]
    },
    {
      "cell_type": "markdown",
      "metadata": {
        "id": "Cr7B2SVNLuAN"
      },
      "source": [
        "## 5.3 Model Recall of all emotions"
      ]
    },
    {
      "cell_type": "code",
      "metadata": {
        "colab": {
          "base_uri": "https://localhost:8080/",
          "height": 237
        },
        "id": "3cn-yaLUKYJo",
        "outputId": "9d6d91aa-75b6-43ba-e3ee-6ca8508a83d5"
      },
      "source": [
        "per_recall_list = pd.DataFrame({'CNN': cnn_per_recall,\n",
        "                        'Bi-LSTM' : bilstm_per_recall},\n",
        "                                index=le.classes_)\n",
        "per_recall_list"
      ],
      "execution_count": null,
      "outputs": [
        {
          "output_type": "execute_result",
          "data": {
            "text/html": [
              "<div>\n",
              "<style scoped>\n",
              "    .dataframe tbody tr th:only-of-type {\n",
              "        vertical-align: middle;\n",
              "    }\n",
              "\n",
              "    .dataframe tbody tr th {\n",
              "        vertical-align: top;\n",
              "    }\n",
              "\n",
              "    .dataframe thead th {\n",
              "        text-align: right;\n",
              "    }\n",
              "</style>\n",
              "<table border=\"1\" class=\"dataframe\">\n",
              "  <thead>\n",
              "    <tr style=\"text-align: right;\">\n",
              "      <th></th>\n",
              "      <th>CNN</th>\n",
              "      <th>Bi-LSTM</th>\n",
              "    </tr>\n",
              "  </thead>\n",
              "  <tbody>\n",
              "    <tr>\n",
              "      <th>anger</th>\n",
              "      <td>89.299</td>\n",
              "      <td>93.911</td>\n",
              "    </tr>\n",
              "    <tr>\n",
              "      <th>fear</th>\n",
              "      <td>82.947</td>\n",
              "      <td>83.579</td>\n",
              "    </tr>\n",
              "    <tr>\n",
              "      <th>joy</th>\n",
              "      <td>91.642</td>\n",
              "      <td>93.269</td>\n",
              "    </tr>\n",
              "    <tr>\n",
              "      <th>love</th>\n",
              "      <td>82.012</td>\n",
              "      <td>92.073</td>\n",
              "    </tr>\n",
              "    <tr>\n",
              "      <th>sadness</th>\n",
              "      <td>94.909</td>\n",
              "      <td>93.960</td>\n",
              "    </tr>\n",
              "    <tr>\n",
              "      <th>surprise</th>\n",
              "      <td>75.694</td>\n",
              "      <td>82.639</td>\n",
              "    </tr>\n",
              "  </tbody>\n",
              "</table>\n",
              "</div>"
            ],
            "text/plain": [
              "             CNN  Bi-LSTM\n",
              "anger     89.299   93.911\n",
              "fear      82.947   83.579\n",
              "joy       91.642   93.269\n",
              "love      82.012   92.073\n",
              "sadness   94.909   93.960\n",
              "surprise  75.694   82.639"
            ]
          },
          "metadata": {},
          "execution_count": 45
        }
      ]
    },
    {
      "cell_type": "markdown",
      "metadata": {
        "id": "00kd4w4-cv--"
      },
      "source": [
        "# 6. Prediction"
      ]
    },
    {
      "cell_type": "code",
      "metadata": {
        "execution": {
          "iopub.status.busy": "2021-09-30T20:03:33.415082Z",
          "iopub.execute_input": "2021-09-30T20:03:33.415639Z",
          "iopub.status.idle": "2021-09-30T20:03:33.422189Z",
          "shell.execute_reply.started": "2021-09-30T20:03:33.415601Z",
          "shell.execute_reply": "2021-09-30T20:03:33.421477Z"
        },
        "trusted": true,
        "id": "bq2AHksTcv--"
      },
      "source": [
        "def predict_single(x):\n",
        "    x = text_preprocessing(x)\n",
        "    # tokenize\n",
        "    x = tokenizer.texts_to_sequences([x])\n",
        "    # pad\n",
        "    x = pad_sequences(x, maxlen=maxlen)\n",
        "    # create dataset\n",
        "    x = torch.tensor(x, dtype=torch.long).to(device)\n",
        "\n",
        "    pred_cnn = model_cnn(x).detach()\n",
        "    pred_cnn = F.softmax(pred_cnn).cpu().numpy()\n",
        "    pred_cnn = pred_cnn.argmax(axis=1)\n",
        "    pred_cnn = le.classes_[pred_cnn]\n",
        "\n",
        "    pred_bilstm = model(x).detach()\n",
        "    pred_bilstm = F.softmax(pred_bilstm).cpu().numpy()\n",
        "    pred_bilstm = pred_bilstm.argmax(axis=1)\n",
        "    pred_bilstm = le.classes_[pred_bilstm]\n",
        "    return pred_cnn[0],pred_bilstm[0]"
      ],
      "execution_count": null,
      "outputs": []
    },
    {
      "cell_type": "code",
      "metadata": {
        "execution": {
          "iopub.status.busy": "2021-09-30T20:06:32.892382Z",
          "iopub.execute_input": "2021-09-30T20:06:32.893060Z",
          "iopub.status.idle": "2021-09-30T20:06:32.902233Z",
          "shell.execute_reply.started": "2021-09-30T20:06:32.893023Z",
          "shell.execute_reply": "2021-09-30T20:06:32.901293Z"
        },
        "trusted": true,
        "id": "v5t69QFscv-_",
        "colab": {
          "base_uri": "https://localhost:8080/"
        },
        "outputId": "45b369e1-d853-4774-8b41-7b56d1838c33"
      },
      "source": [
        "input_string = input('Input Text: ')\n",
        "cnn_pred, bilstm_pred = predict_single(input_string)\n",
        "print('Emotion using CNN:',cnn_pred)\n",
        "print('Emotion using BiLSTM:',bilstm_pred)"
      ],
      "execution_count": null,
      "outputs": [
        {
          "output_type": "stream",
          "name": "stdout",
          "text": [
            "Input Text: i feel like a miserable piece of garbage\n",
            "Emotion using CNN: sadness\n",
            "Emotion using BiLSTM: sadness\n"
          ]
        }
      ]
    }
  ]
}